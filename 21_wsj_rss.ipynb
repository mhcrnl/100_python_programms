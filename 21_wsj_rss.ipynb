{
  "nbformat": 4,
  "nbformat_minor": 0,
  "metadata": {
    "colab": {
      "name": "21_wsj_rss.ipynb",
      "provenance": [],
      "authorship_tag": "ABX9TyOMFK9bIyTArDyoysW+oVmF",
      "include_colab_link": true
    },
    "kernelspec": {
      "name": "python3",
      "display_name": "Python 3"
    }
  },
  "cells": [
    {
      "cell_type": "markdown",
      "metadata": {
        "id": "view-in-github",
        "colab_type": "text"
      },
      "source": [
        "<a href=\"https://colab.research.google.com/github/mhcrnl/100_python_programms/blob/master/21_wsj_rss.ipynb\" target=\"_parent\"><img src=\"https://colab.research.google.com/assets/colab-badge.svg\" alt=\"Open In Colab\"/></a>"
      ]
    },
    {
      "cell_type": "code",
      "metadata": {
        "id": "Jv4QLHPVb5Tv",
        "colab_type": "code",
        "colab": {
          "base_uri": "https://localhost:8080/",
          "height": 211
        },
        "outputId": "990c0ee5-519f-4f0e-8fa6-3733a707a046"
      },
      "source": [
        "#!pip install feedparser"
      ],
      "execution_count": 2,
      "outputs": [
        {
          "output_type": "stream",
          "text": [
            "Collecting feedparser\n",
            "\u001b[?25l  Downloading https://files.pythonhosted.org/packages/91/d8/7d37fec71ff7c9dbcdd80d2b48bcdd86d6af502156fc93846fb0102cb2c4/feedparser-5.2.1.tar.bz2 (192kB)\n",
            "\r\u001b[K     |█▊                              | 10kB 15.0MB/s eta 0:00:01\r\u001b[K     |███▍                            | 20kB 6.2MB/s eta 0:00:01\r\u001b[K     |█████▏                          | 30kB 6.3MB/s eta 0:00:01\r\u001b[K     |██████▉                         | 40kB 6.7MB/s eta 0:00:01\r\u001b[K     |████████▌                       | 51kB 6.6MB/s eta 0:00:01\r\u001b[K     |██████████▎                     | 61kB 7.0MB/s eta 0:00:01\r\u001b[K     |████████████                    | 71kB 7.5MB/s eta 0:00:01\r\u001b[K     |█████████████▋                  | 81kB 8.4MB/s eta 0:00:01\r\u001b[K     |███████████████▍                | 92kB 8.8MB/s eta 0:00:01\r\u001b[K     |█████████████████               | 102kB 8.6MB/s eta 0:00:01\r\u001b[K     |██████████████████▊             | 112kB 8.6MB/s eta 0:00:01\r\u001b[K     |████████████████████▌           | 122kB 8.6MB/s eta 0:00:01\r\u001b[K     |██████████████████████▏         | 133kB 8.6MB/s eta 0:00:01\r\u001b[K     |███████████████████████▉        | 143kB 8.6MB/s eta 0:00:01\r\u001b[K     |█████████████████████████▋      | 153kB 8.6MB/s eta 0:00:01\r\u001b[K     |███████████████████████████▎    | 163kB 8.6MB/s eta 0:00:01\r\u001b[K     |█████████████████████████████   | 174kB 8.6MB/s eta 0:00:01\r\u001b[K     |██████████████████████████████▊ | 184kB 8.6MB/s eta 0:00:01\r\u001b[K     |████████████████████████████████| 194kB 8.6MB/s \n",
            "\u001b[?25hBuilding wheels for collected packages: feedparser\n",
            "  Building wheel for feedparser (setup.py) ... \u001b[?25l\u001b[?25hdone\n",
            "  Created wheel for feedparser: filename=feedparser-5.2.1-cp36-none-any.whl size=44940 sha256=96db7dabe62c6c95d605166c03c6d7a0fd54301091aba38e1fe7c568da33f668\n",
            "  Stored in directory: /root/.cache/pip/wheels/8c/69/b7/f52763c41c5471df57703a0ef718a32a5e81ee35dcf6d4f97f\n",
            "Successfully built feedparser\n",
            "Installing collected packages: feedparser\n",
            "Successfully installed feedparser-5.2.1\n"
          ],
          "name": "stdout"
        }
      ]
    },
    {
      "cell_type": "code",
      "metadata": {
        "id": "3RPrSKzvZJQz",
        "colab_type": "code",
        "colab": {
          "base_uri": "https://localhost:8080/",
          "height": 1000
        },
        "outputId": "643461c2-a26c-4136-9b14-a1000f2fa1b2"
      },
      "source": [
        "import feedparser\n",
        "import datetime\n",
        "\n",
        "print('World Street Journal World News :\\n')\n",
        "url = 'https://feeds.a.dj.com/rss/RSSWorldNews.xml'\n",
        "wsj = feedparser.parse(url)\n",
        "for item in wsj.entries:\n",
        "  print(item.title+'\\n'+item.description+'\\n'+item.link+'\\n')\n",
        "\n",
        "print('World Street Journal Opinion :\\n')\n",
        "url = 'https://feeds.a.dj.com/rss/RSSOpinion.xml'\n",
        "opinion = feedparser.parse(url)\n",
        "for item in opinion.entries:\n",
        "  print(item.title+'\\n'+item.description+'\\n'+item.link+'\\n')\n",
        "\n",
        "print('World Street Journal U.S.Business:\\n')\n",
        "url = 'https://feeds.a.dj.com/rss/WSJcomUSBusiness.xml'\n",
        "business = feedparser.parse(url)\n",
        "for item in business.entries:\n",
        "  print(item.title+'\\n'+item.description+'\\n'+item.link+'\\n')\n",
        "\n",
        "print('World Street Journal Markets News :\\n')\n",
        "url = 'https://feeds.a.dj.com/rss/RSSMarketsMain.xml'\n",
        "markets = feedparser.parse(url)\n",
        "for item in markets.entries:\n",
        "  print(item.title+'\\n'+item.description+'\\n'+item.link+'\\n')\n",
        "\n",
        "print('World Street Journal Technology :\\n')\n",
        "url = 'https://feeds.a.dj.com/rss/RSSWSJD.xml'\n",
        "technology = feedparser.parse(url)\n",
        "for item in technology.entries:\n",
        "  print(item.title+'\\n'+item.description+'\\n'+item.link+'\\n')\n",
        "\n",
        "print('World Street Journal Lifestyle :\\n')\n",
        "url = 'https://feeds.a.dj.com/rss/RSSLifestyle.xml'\n",
        "lifestyle = feedparser.parse(url)\n",
        "for item in lifestyle.entries:\n",
        "  print(item.title+'\\n'+item.description+'\\n'+item.link+'\\n')\n"
      ],
      "execution_count": 15,
      "outputs": [
        {
          "output_type": "stream",
          "text": [
            "World Street Journal World News :\n",
            "\n",
            "European Countries Move Closer to Reopening Continent\n",
            "European governments are preparing to unlock the continent’s economy by introducing rules and guidelines that amount to a sweeping reconfiguration of everyday life, from subway seating to classroom size.\n",
            "https://www.wsj.com/articles/european-countries-move-closer-to-reopening-continent-11588095446\n",
            "\n",
            "Protesters in Lebanon Demand Economic Relief\n",
            "As Lebanon reopens after a pandemic lockdown, protesters have burst onto the streets to demand relief from the country’s deteriorating economy in one of the first signs of a violent backlash following weeks under quarantine.\n",
            "https://www.wsj.com/articles/protesters-in-lebanon-demand-economic-relief-as-coronavirus-lockdown-eases-11588096707\n",
            "\n",
            "South Korea's Playbook for Reopening: Don't Use Cash, Sit Side by Side\n",
            "After two months of social distancing amid the coronavirus, South Korea is about to open up. And it has a rule for everything, hoping to keep people safe as they start returning to their regular routines.\n",
            "https://www.wsj.com/articles/dont-use-cash-eat-side-by-side-south-koreas-rulebook-for-reopening-11588089086\n",
            "\n",
            "Pressure Builds to Reopen Churches in Italy\n",
            "Masses are still on hold, stirring a debate between religious liberty and public-health concern across Europe and the U.S.\n",
            "https://www.wsj.com/articles/pressure-builds-to-re-open-churches-in-italy-11588084807\n",
            "\n",
            "Kim Jong Un's Absence Fits a Pattern of Secrecy Around His Family's Health\n",
            "The health of North Korean leaders is among the isolated regime’s most closely guarded secrets—and something foreign intelligence agencies have struggled to keep tabs on.\n",
            "https://www.wsj.com/articles/when-kim-jong-uns-health-status-is-revealed-the-world-will-be-surprised-11588078943\n",
            "\n",
            "Coronavirus Widens Europe's North-South Economic Divide\n",
            "Most nations of Europe’s north are set to recover faster from their medically induced economic comas than those in the south, exacerbating a divergence of fortunes in the eurozone.\n",
            "https://www.wsj.com/articles/coronavirus-widens-europes-north-south-economic-divide-11588069310\n",
            "\n",
            "World Street Journal Opinion :\n",
            "\n",
            "The Coming GOP Spending Split\n",
            "Trump risks dividing his party in the Senate with another $1 trillion bill.\n",
            "https://www.wsj.com/articles/the-coming-gop-spending-split-11588115854\n",
            "\n",
            "Borrower Beware: Cares Loans Carry a Steep Cost\n",
            "They invite investigations, reputation costs, and maybe even social and environmental measures.\n",
            "https://www.wsj.com/articles/borrower-beware-cares-loans-carry-a-steep-cost-11588113575\n",
            "\n",
            "The Media vs. Flatten the Curve\n",
            "Despite the dopamine economics of online news, we need to see multiple variables.\n",
            "https://www.wsj.com/articles/the-media-vs-flatten-the-curve-11588113213\n",
            "\n",
            "Hawaii Penalizes the Helpers\n",
            "Liquor regulators target a brewery that made hand sanitizer.\n",
            "https://www.wsj.com/articles/hawaii-penalizes-the-helpers-11588115631\n",
            "\n",
            "The STEM M.B.A.\n",
            "Business schools can easily help many of their foreign students stay in America longer after graduation.\n",
            "https://www.wsj.com/articles/the-stem-m-b-a-11588113472\n",
            "\n",
            "Does Coronavirus Doom Density?\n",
            "The pandemic will make suburban, exurban and rural life more tempting for some, but cities will survive.\n",
            "https://www.wsj.com/articles/does-coronavirus-doom-density-11588113291\n",
            "\n",
            "Germany's R0 Coronavirus Experiment\n",
            "Berlin tries to manage a variable no one can measure accurately.\n",
            "https://www.wsj.com/articles/germanys-r0-coronavirus-experiment-11588115565\n",
            "\n",
            "You Must Wear a Mask---or You May Not\n",
            "Some states suspend anti-Klan laws to combat coronavirus.\n",
            "https://www.wsj.com/articles/you-must-wear-a-maskor-you-may-not-11588113606\n",
            "\n",
            "After Coronavirus Lockdowns, Don't Expect 'Normal'\n",
            "States will embrace different strategies. But we must protect the vulnerable.\n",
            "https://www.wsj.com/articles/after-coronavirus-lockdowns-dont-expect-normal-11588093666\n",
            "\n",
            "Russia's Free Press Takes Another Hit\n",
            "An independent business paper is fighting a Kremlin power grab.\n",
            "https://www.wsj.com/articles/russias-free-press-takes-another-hit-11588115516\n",
            "\n",
            "Trump's New Tariff 'Pause'\n",
            "Outside of China, the President wants to keep his favorite trade negotiating tool on the shelf.\n",
            "https://www.wsj.com/articles/trumps-new-tariff-pause-11588095822\n",
            "\n",
            "How My Joke on Twitter Became a Federal Case\n",
            "The NLRB is investigating me for a humorous tweet about Vox’s labor dispute.\n",
            "https://www.wsj.com/articles/how-my-joke-on-twitter-became-a-federal-case-11588113551\n",
            "\n",
            "Relying on Foreign Drugs Is Dangerous\n",
            "Generics are often made in India, with ingredients from China. Time to diversify the supply chain.\n",
            "https://www.wsj.com/articles/relying-on-foreign-drugs-is-dangerous-11588093635\n",
            "\n",
            "The Case Against Switching to Pass/Fail\n",
            "Colleges shouldn’t force students off the letter-grade system during the coronavirus pandemic.\n",
            "https://www.wsj.com/articles/the-case-against-switching-to-pass-fail-11588113308\n",
            "\n",
            "World Street Journal U.S.Business:\n",
            "\n",
            "Trump Takes Executive Action to Keep Meat-Processing Plants Open\n",
            "President Trump signed an executive order on Tuesday paving the way for meat-processing plants to remain open during the coronavirus pandemic.\n",
            "https://www.wsj.com/articles/trump-to-take-executive-action-to-keep-meat-processing-plants-open-11588099443?mod=pls_whats_news_us_business_f\n",
            "\n",
            "Race for Coronavirus Vaccine Accelerates as Pfizer Says U.S. Testing to Begin Next Week\n",
            "The push for a vaccine to combat the new coronavirus is moving faster than researchers and drugmakers expected, with Pfizer joining several other groups saying that they had accelerated the timetable for testing and that a vaccine could be ready for emergency use in the fall.\n",
            "https://www.wsj.com/articles/pfizer-coronavirus-vaccine-could-be-ready-for-emergency-use-by-fall-11588094064?mod=pls_whats_news_us_business_f\n",
            "\n",
            "Google Revenue Climbs, but Company Warns of 'Tale of Two Quarters'\n",
            "The online search giant’s parent posted a sustained rise in revenue in the first quarter, but executives said that company performance fell off as the pandemic accelerated and signaled uncertainty about the months ahead.\n",
            "https://www.wsj.com/articles/google-revenues-climb-in-encouraging-sign-for-big-tech-11588105574?mod=pls_whats_news_us_business_f\n",
            "\n",
            "Factory Shutdowns, Demand Slump Hammer European Auto Earnings\n",
            "Volkswagen and Daimler, two of Germany’s largest auto makers, reported sharp falls in earnings, revenue and new-car sales for the first three months of the year.\n",
            "https://www.wsj.com/articles/factory-shutdowns-demand-slump-hammer-european-auto-earnings-11588147497?mod=pls_whats_news_us_business_f\n",
            "\n",
            "Mark Zuckerberg Asserts Control of Facebook, Pushing Aside Dissenters\n",
            "The 35-year-old tycoon has recast the company’s board of directors and sought a high-profile role for the social-media giant in the Covid-19 pandemic.\n",
            "https://www.wsj.com/articles/mark-zuckerberg-asserts-control-of-facebook-pushing-aside-dissenters-11588106984?mod=pls_whats_news_us_business_f\n",
            "\n",
            "Coronavirus Relief Often Pays Workers More Than Work\n",
            "Roughly half of all U.S. workers stand to earn more in unemployment benefits than they did at their jobs before the coronavirus pandemic shut down wide swaths of the U.S. economy, a result of government relief that employers say is complicating plans to reopen businesses.\n",
            "https://www.wsj.com/articles/coronavirus-relief-often-pays-workers-more-than-work-11588066200?mod=pls_whats_news_us_business_f\n",
            "\n",
            "Globalization Is Down but Not Out Yet\n",
            "Some see the coronavirus pandemic as an international wake-up call against global supply chains and overdependence on trade with China; others see a an opportunity to adjust course.\n",
            "https://www.wsj.com/articles/globalization-is-down-but-not-yet-out-11588089674?mod=pls_whats_news_us_business_f\n",
            "\n",
            "Mnuchin Says Big Companies Should Apologize for Taking Small Business Loans\n",
            "Treasury secretary is seeking an apology to American taxpayers from large companies that sought coronavirus hardship funds intended for small businesses.\n",
            "https://www.wsj.com/articles/mnuchin-warns-larger-companies-against-seeking-coronavirus-funds-meant-for-small-businesses-11588083665?mod=pls_whats_news_us_business_f\n",
            "\n",
            "U.S. Audits of Small-Business Loans Face Daunting Challenges\n",
            "Small businesses that borrow money through the government’s aid program could face audits before the loans are forgiven, Treasury Secretary Mnuchin said, even as others warned that federal officials face daunting challenges in ensuring the funds are properly spent.\n",
            "https://www.wsj.com/articles/sba-to-face-big-challenges-ensuring-coronavirus-loans-arent-misspent-11588094140?mod=pls_whats_news_us_business_f\n",
            "\n",
            "'A Bargain With the Devil'---Bill Comes Due for Overextended Airbnb Hosts\n",
            "Entrepreneurs built mini-empires of short-term rental properties, borrowing against revenue that’s now vanishing under coronavirus lockdowns.\n",
            "https://www.wsj.com/articles/a-bargain-with-the-devilbill-comes-due-for-overextended-airbnb-hosts-11588083336?mod=pls_whats_news_us_business_f\n",
            "\n",
            "Samsung Reports Slight Decline in Quarterly Profit\n",
            "The South Korean company warns that the coronavirus pandemic could further threaten the company’s margins the rest of the year.\n",
            "https://www.wsj.com/articles/samsung-electronics-reports-slight-decline-in-quarterly-profit-11588120845?mod=pls_whats_news_us_business_f\n",
            "\n",
            "Its U.S. Shares Soaring, JD.com Files to list in Hong Kong\n",
            "Chinese e-commerce giant JD.com, listed on Nasdaq since 2014, filed a confidential application for a secondary listing in Hong Kong—moving a step closer to a stock sale as early as June.\n",
            "https://www.wsj.com/articles/its-u-s-shares-soaring-jd-com-files-to-list-in-hong-kong-11588147173?mod=pls_whats_news_us_business_f\n",
            "\n",
            "Starbucks Logs First Quarterly Same-Store Sales Drop in 11 Years\n",
            "Starbucks said global same-store sales fell 10% in the first quarter as a result of the coronavirus crisis, the first downturn by that measure in nearly 11 years.\n",
            "https://www.wsj.com/articles/starbucks-logs-first-quarterly-sales-drop-in-11-years-11588105804?mod=pls_whats_news_us_business_f\n",
            "\n",
            "AMC Blasts Universal's Plans to Release More Movies Digitally\n",
            "Universal Pictures’ plan to experiment with the theatrical distribution model has sparked all-out war with the world’s largest movie-theater chain.\n",
            "https://www.wsj.com/articles/amc-theater-chain-blasts-universals-plans-to-release-more-movies-digitally-11588120091?mod=pls_whats_news_us_business_f\n",
            "\n",
            "Even for Companies With Business From Coronavirus, the Picture Is Mixed at Best\n",
            "A widespread cessation of global business activity is damping results, even for companies that have products and services in intense demand.\n",
            "https://www.wsj.com/articles/even-for-companies-with-business-from-coronavirus-the-picture-is-mixed-at-best-11588105420?mod=pls_whats_news_us_business_f\n",
            "\n",
            "Streaming Movies Are Eligible for Oscars, Academy Says\n",
            "The Academy of Motion Picture Arts and Sciences said it expanded the eligibility rules for the Oscars to include films that weren’t released in theaters because of the nationwide shutdown of movie theaters.\n",
            "https://www.wsj.com/articles/streaming-movies-are-eligible-for-the-oscars-academy-says-11588110996?mod=pls_whats_news_us_business_f\n",
            "\n",
            "Prosecutors, Regulators Probe Boeing 737 MAX Production Issues\n",
            "Boeing faces criminal and civil scrutiny into years of widespread quality-control lapses on its 737 MAX assembly line.\n",
            "https://www.wsj.com/articles/prosecutors-regulators-probe-boeing-737-max-production-issues-11588085503?mod=pls_whats_news_us_business_f\n",
            "\n",
            "Senator Pushes DOJ to Open Criminal Probe Into Amazon\n",
            "Sen. Josh Hawley is urging the Justice Department to open a criminal antitrust investigation into Amazon after a Wall Street Journal report detailed the company’s use of third-party seller data to develop its products.\n",
            "https://www.wsj.com/articles/senator-pushes-doj-to-open-criminal-investigation-into-amazon-11588067701?mod=pls_whats_news_us_business_f\n",
            "\n",
            "World Street Journal Markets News :\n",
            "\n",
            "Its U.S. Shares Soaring, JD.com Files to list in Hong Kong\n",
            "Chinese e-commerce giant JD.com, listed on Nasdaq since 2014, filed a confidential application for a secondary listing in Hong Kong—moving a step closer to a stock sale as early as June.\n",
            "https://www.wsj.com/articles/its-u-s-shares-soaring-jd-com-files-to-list-in-hong-kong-11588147173\n",
            "\n",
            "Global Stocks Rise Ahead of Fed Decisions\n",
            "Stocks rose as investors awaited the conclusion of a two-day Federal Reserve meeting that is likely to keep the U.S. benchmark interest rate near zero and continue support for businesses during the coronavirus pandemic.\n",
            "https://www.wsj.com/articles/global-stock-markets-dow-update-04-29-2020-11588137391\n",
            "\n",
            "Deutsche Bank Beats Expectations but Coronavirus Clouds Outlook\n",
            "Deutsche Bank weathered the first weeks of the coronavirus pandemic better than expected, but the bank warned a sharp slowdown in the global economy will hurt its loan book, and possibly its ability to sell unwanted assets.\n",
            "https://www.wsj.com/articles/deutsche-bank-beats-expectations-but-coronavirus-clouds-outlook-11588143862\n",
            "\n",
            "Barclays Profit Drops as It Braces for Soured Loans\n",
            "U.K. lender Barclays said its profit fell in the first quarter as it set aside $2.6 billion in provisions for losses from loans affected by the coronavirus pandemic.\n",
            "https://www.wsj.com/articles/barclays-profit-drops-as-it-braces-for-soured-loans-11588143371\n",
            "\n",
            "Google Hides Its Pain Well\n",
            "Growth in Google parent Alphabet’s first quarter obscures what is likely the internet giant’s toughest year ahead.\n",
            "https://www.wsj.com/articles/google-hides-its-pain-well-11588112480\n",
            "\n",
            "Companies Are Suspending Dividends at Fastest Pace in Years\n",
            "Nearly 200 companies have cut, suspended or eliminated their dividend payments this year—the most since 2009.\n",
            "https://www.wsj.com/articles/companies-are-suspending-dividends-at-fastest-pace-in-years-11588075203\n",
            "\n",
            "Junk Bonds Bounce Back, Raising Hopes---and Concerns\n",
            "A rally in corporate debt is enabling riskier companies to raise much-needed cash while fueling debate over whether investors have grown overly optimistic about the economy.\n",
            "https://www.wsj.com/articles/junk-bonds-bounce-back-raising-hopesand-concerns-11588066201\n",
            "\n",
            "U.S. Stocks Tick Modestly Lower\n",
            "Equities edged lower Tuesday as more states prepared to relax coronavirus-containment measures, though a resurgence of economically sensitive shares suggested growing optimism among investors about the path forward.\n",
            "https://www.wsj.com/articles/global-stock-markets-dow-update-04-28-2020-11588051856\n",
            "\n",
            "Oil Prices Fall After Swinging Wildly\n",
            "Dysfunction in the crude-oil market intensified, sending the most popularly traded U.S. oil contract to a fresh low before it recovered somewhat.\n",
            "https://www.wsj.com/articles/oil-prices-drop-to-lowest-level-since-1986-11588066453\n",
            "\n",
            "Wirecard Tumbles as Questions Remain After Special Audit\n",
            "Shares in German electronics-payments giant Wirecard dropped more than 26% after a special audit reviewing allegations about some of its accounting practices left unanswered questions.\n",
            "https://www.wsj.com/articles/wirecard-tumbles-as-questions-remain-after-special-audit-11588071316\n",
            "\n",
            "HSBC's Loan Losses Hint at Tougher Times for Banks\n",
            "HSBC’s Asian focus gives it a slight lead over its European and U.S. peers in understanding the impact of coronavirus shutdowns. Its first-quarter numbers stand as a warning.\n",
            "https://www.wsj.com/articles/hsbcs-loan-losses-hint-at-tougher-times-for-banks-11588090776\n",
            "\n",
            "Is It Really an Excellent Time to Buy a Home?\n",
            "Spooked by the Covid-19 pandemic, the lowest share of Americans in decades thinks this is the time to buy residential real estate.\n",
            "https://www.wsj.com/articles/is-it-really-an-excellent-time-to-buy-a-home-11588089761\n",
            "\n",
            "A Chinese Bank's Billion-Dollar Oil Slick\n",
            "Big losses on an oil-backed Chinese investment product once again show how financial complexity, moral hazard and yield-starved Chinese retail investors make for a volatile mix.\n",
            "https://www.wsj.com/articles/a-chinese-banks-billion-dollar-oil-slick-11588089311\n",
            "\n",
            "Everything You Need to Know About the Payments From the Government\n",
            "In response to the economic fallout of the coronavirus pandemic, Congress approved an economic relief plan that includes one-time direct payments to most households. Here are the key details.\n",
            "https://www.wsj.com/articles/everything-you-need-to-know-about-the-payments-from-the-government-11585229988\n",
            "\n",
            "Medical Masks Are Protecting China's Electric-Vehicle Champion\n",
            "Berkshire Hathaway-backed BYD is struggling with its core car business, but other lines of work are thriving.\n",
            "https://www.wsj.com/articles/medical-masks-are-protecting-chinas-electric-vehicle-champion-11588086120\n",
            "\n",
            "The Strategic Costs of Boeing's Dash for Cash\n",
            "Whatever flight path Boeing finds through the Covid-19 crisis, it is unlikely to improve the U.S. aerospace giant’s competitive position versus European rival Airbus.\n",
            "https://www.wsj.com/articles/the-strategic-costs-of-boeings-dash-for-cash-11588067907\n",
            "\n",
            "If You Must Negotiate Your Bills, Here's How\n",
            "For those looking to reduce expenses in the current downturn, renegotiating your bills is one way to do that. Here are some tips before you enter financial discussions with creditors.\n",
            "https://www.wsj.com/articles/if-you-must-negotiate-your-bills-heres-how-11588078800\n",
            "\n",
            "HSBC Sets Aside $3 Billion for Loan Losses as Profit Dives\n",
            "The U.K.-based, Asia-focused bank said its net profit for the first quarter sank as it significantly raised provisions against losses from borrowers hit by the coronavirus.\n",
            "https://www.wsj.com/articles/hsbc-profit-slumps-as-coronavirus-oil-prices-weigh-11588054334\n",
            "\n",
            "UBS Profit Jumps Despite Coronavirus Disruption\n",
            "Swiss lender UBS said profit rose sharply in the first quarter as its focus on lending to the world’s wealthy and Swiss customers cushioned it from the blow felt by other global lenders from the coronavirus.\n",
            "https://www.wsj.com/articles/ubs-profit-jumps-in-first-quarter-11588053257\n",
            "\n",
            "When the Music Stops\n",
            "Album delays caused by an inability to tour can hurt even the industry’s streaming players.\n",
            "https://www.wsj.com/articles/when-the-music-stops-11588071600\n",
            "\n",
            "World Street Journal Technology :\n",
            "\n",
            "Mark Zuckerberg Asserts Control of Facebook, Pushing Aside Dissenters\n",
            "The 35-year-old tycoon has recast the company’s board of directors and sought a high-profile role for the social-media giant in the Covid-19 pandemic.\n",
            "https://www.wsj.com/articles/mark-zuckerberg-asserts-control-of-facebook-pushing-aside-dissenters-11588106984?mod=rss_Technology\n",
            "\n",
            "Google Revenue Climbs, but Company Warns of 'Tale of Two Quarters'\n",
            "The online search giant’s parent posted a sustained rise in revenue in the first quarter, but executives said that company performance fell off as the pandemic accelerated and signaled uncertainty about the months ahead.\n",
            "https://www.wsj.com/articles/google-revenues-climb-in-encouraging-sign-for-big-tech-11588105574?mod=rss_Technology\n",
            "\n",
            "Its U.S. Shares Soaring, JD.com Files to list in Hong Kong\n",
            "Chinese e-commerce giant JD.com, listed on Nasdaq since 2014, filed a confidential application for a secondary listing in Hong Kong—moving a step closer to a stock sale as early as June.\n",
            "https://www.wsj.com/articles/its-u-s-shares-soaring-jd-com-files-to-list-in-hong-kong-11588147173?mod=rss_Technology\n",
            "\n",
            "Senator Pushes DOJ to Open Criminal Probe Into Amazon\n",
            "Sen. Josh Hawley is urging the Justice Department to open a criminal antitrust investigation into Amazon after a Wall Street Journal report detailed the company’s use of third-party seller data to develop its products.\n",
            "https://www.wsj.com/articles/senator-pushes-doj-to-open-criminal-investigation-into-amazon-11588067701?mod=rss_Technology\n",
            "\n",
            "Samsung Reports Slight Decline in Quarterly Profit\n",
            "The South Korean company warns that the coronavirus pandemic could further threaten the company’s margins the rest of the year.\n",
            "https://www.wsj.com/articles/samsung-electronics-reports-slight-decline-in-quarterly-profit-11588120845?mod=rss_Technology\n",
            "\n",
            "Apps to Track Coronavirus Desperately Need One Thing: Users\n",
            "At least 60% of a population would have to opt in for contact-tracing apps to work well, some experts say.\n",
            "https://www.wsj.com/articles/apps-to-track-the-new-coronavirus-have-an-old-problem-getting-the-downloads-11588115728?mod=rss_Technology\n",
            "\n",
            "A Coronavirus Surge in Screen Time Boosts Chip Makers\n",
            "With much of the world in lockdown, internet users are logging billions of hours of additional screen time, leading data centers to beef up their infrastructure and bolstering the businesses that support all those Zoom calls, Amazon sprees and Netflix binges.\n",
            "https://www.wsj.com/articles/a-coronavirus-surge-in-screen-time-boosts-chip-makers-11588066203?mod=rss_Technology\n",
            "\n",
            "'A Bargain With the Devil'---Bill Comes Due for Overextended Airbnb Hosts\n",
            "Entrepreneurs built mini-empires of short-term rental properties, borrowing against revenue that’s now vanishing under coronavirus lockdowns.\n",
            "https://www.wsj.com/articles/a-bargain-with-the-devilbill-comes-due-for-overextended-airbnb-hosts-11588083336?mod=rss_Technology\n",
            "\n",
            "Streaming Movies Are Eligible for Oscars, Academy Says\n",
            "The Academy of Motion Picture Arts and Sciences said it expanded the eligibility rules for the Oscars to include films that weren’t released in theaters because of the nationwide shutdown of movie theaters.\n",
            "https://www.wsj.com/articles/streaming-movies-are-eligible-for-the-oscars-academy-says-11588110996?mod=rss_Technology\n",
            "\n",
            "Investors Bet Tesla Can Stay on Course During Coronavirus Pandemic\n",
            "Investors are sticking with Tesla despite concerns of a prolonged recession caused by the coronavirus pandemic. The company will report first-quarter results on Wednesday.\n",
            "https://www.wsj.com/articles/investors-bet-tesla-can-stay-on-course-during-coronavirus-pandemic-11588075333?mod=rss_Technology\n",
            "\n",
            "Parents: Don't Let the Screens Win\n",
            "What limits are appropriate in these unusual times, when videogames and phones provide the only socializing many kids are getting these days—and the only interruption-free time parents might get to work?\n",
            "https://www.wsj.com/articles/dont-let-the-screens-win-11588066203?mod=rss_Technology\n",
            "\n",
            "'Trolls World Tour' Breaks Digital Records and Charts a New Path for Hollywood\n",
            "In three weeks of digital release, the “Trolls” sequel has made more money for Universal Pictures than the original did during five months in theaters.\n",
            "https://www.wsj.com/articles/trolls-world-tour-breaks-digital-records-and-charts-a-new-path-for-hollywood-11588066202?mod=rss_Technology\n",
            "\n",
            "The Scramble for Delivery Robots Is On and Startups Can Barely Keep Up\n",
            "Adoption of robots and drones carrying goods speeds up as a frightened world craves safe delivery of everything from medical supplies to food.\n",
            "https://www.wsj.com/articles/the-scramble-for-delivery-robots-is-on-and-startups-can-barely-keep-up-11587787199?mod=rss_Technology\n",
            "\n",
            "Will Coronavirus Dent Snap's Comeback?\n",
            "A young user base could cut both ways as the pandemic ravages the economy\n",
            "https://www.wsj.com/articles/snap-made-a-comeback-will-coronavirus-dent-it-11588025969?mod=rss_Technology\n",
            "\n",
            "Pandemic Builds Momentum for Broadband Upgrade\n",
            "The coronavirus pandemic is boosting momentum for major broadband legislation, highlighting the widespread lack of high-speed internet in U.S. homes at a time when it has become more essential than ever.\n",
            "https://www.wsj.com/articles/pandemic-builds-momentum-for-broadband-infrastructure-upgrade-11587461400?mod=rss_Technology\n",
            "\n",
            "Facebook Isn't Zoom's Biggest Problem\n",
            "Facebook has a large consumer audience, but that doesn’t mean it will be a hit in the part of the videoconferencing business that Zoom cares most about.\n",
            "https://www.wsj.com/articles/facebook-isnt-zooms-biggest-problem-11588025776?mod=rss_Technology\n",
            "\n",
            "Amid Pandemic, More Turn to Videogame Face-Offs for Cash\n",
            "Apps and websites that let strangers place wagers as they compete over games like “Fortnite” are surging as many people—some of them newly unemployed—seek out a fun way to make money during the crisis.\n",
            "https://www.wsj.com/articles/pandemic-pastime-playing-esports-against-strangers-with-cash-at-stake-11587466800?mod=rss_Technology\n",
            "\n",
            "Peter Thiel's Palantir Saw Coronavirus Coming. Now It Braces for the Impact.\n",
            "Peter Thiel’s data firm Palantir Technologies got an early jump on the coronavirus, recalling staff from abroad ahead of most companies. In recent weeks, it parlayed that knowledge into a growing role helping governments around the world track the pandemic.\n",
            "https://www.wsj.com/articles/peter-thiels-palantir-saw-coronavirus-coming-now-it-braces-for-the-impact-11587461402?mod=rss_Technology\n",
            "\n",
            "Classic Rock Gives Comfort to Music Fans During Coronavirus Lockdown\n",
            "With millions stuck at home due to coronavirus shelter-in-place orders and searching for entertainment, data suggest that new releases by major pop artists are drawing fewer listeners than normal.\n",
            "https://www.wsj.com/articles/the-soundtrack-of-the-coronavirus-pandemic-oldies-11587819602?mod=rss_Technology\n",
            "\n",
            "How 'Animal Crossing' Became Coronavirus Therapy\n",
            "Popular videogame indulges a yearning for escapism; ‘a simulation of normal life without any of the stress or responsibility’\n",
            "https://www.wsj.com/articles/how-animal-crossing-became-coronavirus-therapy-11587318513?mod=rss_Technology\n",
            "\n",
            "World Street Journal Lifestyle :\n",
            "\n",
            "Demand for In-Home Care Rises During Coronavirus\n",
            "As older adults shelter in place, an already-stretched caregiver network faces new strains; “The most vulnerable to Covid are going to be staying home longer than the rest of us.”\n",
            "https://www.wsj.com/articles/demand-for-in-home-care-rises-during-coronavirus-11588003076\n",
            "\n",
            "Happy Hour Gets Earlier in Lockdown\n",
            "Many social drinkers find they are consuming more as they look to cheer up or relieve stress during the pandemic, but experts warn against excess.\n",
            "https://www.wsj.com/articles/happy-hour-comes-nearly-every-day-for-social-drinkers-as-coronavirus-keeps-them-home-11588004362\n",
            "\n",
            "A Double Risk: On the Coronavirus Front Line, and Older\n",
            "Hospitals scrambling to respond to the coronavirus pandemic need the help of experienced staffers, but the risks to older workers are greater.\n",
            "https://www.wsj.com/articles/a-double-risk-on-the-coronavirus-front-line-and-older-11588104484\n",
            "\n",
            "For the Rich, A Dilemma: Quarantine With Staff, or Do Their Own Chores\n",
            "Some wealthy homeowners are self-isolating with staff during the coronavirus pandemic, while others are cooking, cleaning and taking out their own trash.\n",
            "https://www.wsj.com/articles/for-the-rich-a-dilemma-quarantine-with-staff-or-do-their-own-chores-11587051916\n",
            "\n",
            "MLB Teams to Announce Updated Refund Policies\n",
            "Major League Baseball games had been officially listed as postponed rather than canceled, but the league office is now providing clubs with new guidance. Teams are planning to unveil new ticket policies that lay the groundwork for refunds.\n",
            "https://www.wsj.com/articles/mlb-teams-to-announce-updated-ticket-policies-paving-way-for-refunds-11588086381\n",
            "\n",
            "A Family's 1958 Buick Moves to a New Generation\n",
            "More than 60 years ago, Steve Kugler’s grandparents splurged on a $3,789 Buick. Today, he uses the car to bring his grandchildren out for ice cream.\n",
            "https://www.wsj.com/articles/a-familys-1958-buick-moves-to-a-new-generation-11588082492\n",
            "\n",
            "'Normal People' Review: Love's Labour's Found\n",
            "The TV adaptation of Sally Rooney’s novel is a captivating look at complicated, class conscious romance.\n",
            "https://www.wsj.com/articles/normal-people-review-loves-labours-found-11588103557\n",
            "\n",
            "Should You Wear a Mask When Exercising Outdoors?\n",
            "As many exercisers experiment with different types of masks and fabrics to protect themselves and others, we asked the experts to weigh in.\n",
            "https://www.wsj.com/articles/should-you-wear-a-mask-when-exercising-outdoors-11588079594\n",
            "\n",
            "Parents: Don't Let the Screens Win\n",
            "What limits are appropriate in these unusual times, when videogames and phones provide the only socializing many kids are getting these days—and the only interruption-free time parents might get to work?\n",
            "https://www.wsj.com/articles/dont-let-the-screens-win-11588066203\n",
            "\n",
            "We Asked Which House Shoes You Wear and Boy, Did You Answer\n",
            "Following a recent article on house shoes, our men’s fashion editor asked which indoor shoes readers are wearing. Some of the responses were quite surprising.\n",
            "https://www.wsj.com/articles/we-asked-which-house-shoes-you-wear-and-boy-did-you-answer-11587993170\n",
            "\n",
            "2020's New and Improved Flowers: A Gardener's A-to-Z Guide\n",
            "Each year, growers develop frillier petals and more-prolific plants as well as reintroduce lost varieties. With these 26, turn your neighbors green with envy.\n",
            "https://www.wsj.com/articles/2020s-new-and-improved-flowers-a-gardeners-a-to-z-guide-11587787286\n",
            "\n",
            "The Best Fantasy Fiction for Anyone Craving an Escape\n",
            "Writers Leigh Bardugo, Ben Winters and Janet Lin share their go-tos, from delightfully preposterous kids’ reads to sophisticated fairy tales.\n",
            "https://www.wsj.com/articles/the-best-fantasy-fiction-for-anyone-craving-an-escape-11587787209\n",
            "\n",
            "Great Escapes: Comfort Reads & Diversions\n",
            "There are endless ways to stay entertained at home. Here, we revisit beloved books, highlight original games and teleport you to other worlds.\n",
            "https://www.wsj.com/articles/great-escapes-comfort-reads-diversions-11587763538\n",
            "\n",
            "Despite Stay-at-Home Order, Seattle's Real-Estate Market Continues to Show Up\n",
            "Home buyers looking for a deal amid the coronavirus pandemic might be hard-pressed to find one.\n",
            "https://www.wsj.com/articles/despite-stay-at-home-order-seattles-real-estate-market-continues-to-show-up-11586800867\n",
            "\n",
            "They Couldn't See the Ocean. So This Couple Demolished Their Home and Built a New One.\n",
            "Art and Pat Antin tore down their longtime Santa Monica property and built a curvy, contemporary home with water views from nearly every room.\n",
            "https://www.wsj.com/articles/they-couldnt-see-the-ocean-so-this-couple-demolished-their-home-and-built-a-new-one-11585844766\n",
            "\n",
            "Luxury Developers Are Curating Their Condos With In-House Artists\n",
            "Art lessons, artist residency programs and exclusive partnerships with academies and galleries are helping these developers paint a new picture of high-end living.\n",
            "https://www.wsj.com/articles/luxury-developers-are-curating-their-condos-with-in-house-artists-11585768000\n",
            "\n"
          ],
          "name": "stdout"
        }
      ]
    },
    {
      "cell_type": "code",
      "metadata": {
        "id": "4dWLpBQPNIv3",
        "colab_type": "code",
        "colab": {
          "base_uri": "https://localhost:8080/",
          "height": 124
        },
        "outputId": "1f5acf8d-29e4-4b78-f606-abfee6144441"
      },
      "source": [
        "from google.colab import drive\n",
        "drive.mount('/content/gdrive')"
      ],
      "execution_count": 16,
      "outputs": [
        {
          "output_type": "stream",
          "text": [
            "Go to this URL in a browser: https://accounts.google.com/o/oauth2/auth?client_id=947318989803-6bn6qk8qdgf4n4g3pfee6491hc0brc4i.apps.googleusercontent.com&redirect_uri=urn%3aietf%3awg%3aoauth%3a2.0%3aoob&response_type=code&scope=email%20https%3a%2f%2fwww.googleapis.com%2fauth%2fdocs.test%20https%3a%2f%2fwww.googleapis.com%2fauth%2fdrive%20https%3a%2f%2fwww.googleapis.com%2fauth%2fdrive.photos.readonly%20https%3a%2f%2fwww.googleapis.com%2fauth%2fpeopleapi.readonly\n",
            "\n",
            "Enter your authorization code:\n",
            "··········\n",
            "Mounted at /content/gdrive\n"
          ],
          "name": "stdout"
        }
      ]
    },
    {
      "cell_type": "code",
      "metadata": {
        "id": "P3o25NwLN56l",
        "colab_type": "code",
        "colab": {
          "base_uri": "https://localhost:8080/",
          "height": 52
        },
        "outputId": "c3d46a87-1804-499b-e9a8-94554ad9fd41"
      },
      "source": [
        "!ls /content/gdrive/MyDrive"
      ],
      "execution_count": 19,
      "outputs": [
        {
          "output_type": "stream",
          "text": [
            "ls: cannot access '/content/gdrive/My': No such file or directory\n",
            "ls: cannot access 'Drive': No such file or directory\n"
          ],
          "name": "stdout"
        }
      ]
    },
    {
      "cell_type": "code",
      "metadata": {
        "id": "4NKjNufJQx3M",
        "colab_type": "code",
        "colab": {}
      },
      "source": [
        "with open('/content/gdrive/My Drive/file.txt', 'w') as f:\n",
        "  f.write('content')"
      ],
      "execution_count": 0,
      "outputs": []
    },
    {
      "cell_type": "code",
      "metadata": {
        "id": "Bct6YZQ-SvLM",
        "colab_type": "code",
        "colab": {
          "base_uri": "https://localhost:8080/",
          "height": 72
        },
        "outputId": "8954afba-7a04-4979-e121-2f3a094e5235"
      },
      "source": [
        "import os\n",
        "print(os.getcwd())\n",
        "print(os.listdir('/content/gdrive/My Drive'))"
      ],
      "execution_count": 27,
      "outputs": [
        {
          "output_type": "stream",
          "text": [
            "/content\n",
            "['Venituri financiare.gsheet', 'Untitled spreadsheet (1).gsheet', 'Canaan.gdoc', 'Un arheolog descoperă urmele unui război chimic.gdoc', 'Top modele.gdoc', 'EBLA.gdoc', 'Ioan Slavici.gdoc', 'Introducere.gdoc', '2009-06-09.Raport_Zilnic_De_Tranzactionare_en.gdoc', 'venituri.gsheet', 'Evaluarea eficienţei economice a unei societăţi financiare.gdoc', 'Regula 1..gdoc', 'Elementele de analiză tehnică.gdoc', 'Etapele de analiza a unei acţiuni.gdoc', 'John Maynard Keynes (1883 – 1946) est....gdoc', 'oferta 2.gdoc', 'E-mail.gdoc', 'Prioritizarea activitatii.gdoc', 'Lectia 1 l.engleza.gdoc', 'Raport financiar 2009.gdoc', 'Copy of Research Paper.gdoc', '2010-03-04.Raport_Zilnic_De_Tranzactionare_en.gdoc', 'TLV.gdoc', 'Imperiul Bizantin (1).gdoc', 'Compa Sibiu.gdoc', 'Adrese.gdoc', 'Imperiul Bizantin.gdoc', 'My first notebook (1).gdoc', 'My first notebook.gdoc', 'venus voiaj - Contact form [Contact form].gform', 'Sisteme de operare online.gdoc', 'Gânduri și suferințe.gdoc', 'Admirație băsesciană.gdoc', 'news 12 10 2010.gdoc', 'Plan afacere Magazin virtual.gdoc', 'Istoria bursei.gdoc', 'Untitled document (6).gdoc', 'Fondul proprietatea.gdoc', 'linuxdistributie - Untitled form [Untitled form].gform', 'Untitled document (5).gdoc', 'Untitled document (4).gdoc', 'mhcrnl - Contact form [Contact form].gform', 'Ubuntu 9.10.gdoc', 'Xampp.gdoc', 'testdate [Form].gform', 'Clienti [Form].gform', 'Untitled form [Form] (1).gform', 'Cum sa ajungi in top pe Google.gdoc', 'Biblioteca (1).gsheet', 'Ajax in lectii de 10 minute.odt.gdoc', 'Calendar 2011.gdoc', 'Untitled document (3).gdoc', 'Setare imprimanta Ub.10.10 server.gdoc', 'Untitled form [Form].gform', 'Proiect Web.gdoc', 'Untitled document (2).gdoc', 'Telefon Nokia 6070.gdoc', 'Analiza actiuni.gdoc', 'Untitled document (1).gdoc', 'Comenzi [Form].gform', 'Importat din Blocnotes Google - My first notebook.gdoc', 'Importat din Blocnotes Google - Blocnotesul 1.gdoc', 'Copy of Daily Agenda (1).gsheet', 'Anticariat librarie - Contact form [Contact form].gform', 'Site index contori.gdoc', 'Copy of Daily Agenda.gsheet', 'Formular contact S.C. Sygler Ascensor S.R.L. [Form].gform', 'Formular contact S.C. Sygler Ascensor S.R.L..gsheet', 'SYGLER ASCENSOR.doc.gdoc', 'Untitled document.gdoc', 'StockPrice.gsheet', 'SimpleFrameTest.java.gdoc', 'prevdaysummaries_20120219_ro.gsheet', 'New Table.gtable', \"vanzari feb'12.gsheet\", 'Utilizare JTable .gdoc', 'Analiza investitii bursiere.gdoc', 'PROFETIILE MAYA.gdoc', 'Untitled drawing.gdraw', 'OKAZII OFERTE.gdoc', 'Biblioteca.gsheet', 'javaScript.gsheet', 'CWSD.gsheet', 'Kevin Bacon.gsheet', 'Agenda.gsheet', 'Copy of Map Mail Merge (1).gsheet', 'Prentice.Hall.C.plus.plus.GUI.Programming.with.Qt.4.2nd.Edition.Feb.2008.chm', 'Magazin Linux aprilie-mai 2013.gdoc', 'Programare server in PHP.gdoc', 'Utilizarea bibliotecilor JavaScript.gdoc', 'BRD Actiuni Profit.gsheet', 'Actiuni comparator.gsheet', 'SmartphoneTop.gsheet', 'Tablete .gdoc', 'Smartphone.gdoc', 'Ce mai citim?.gdoc', 'Formular fără titlu.gform', 'Foaie de calcul fără titlu (2).gform', 'Comentarii.gform', 'Comentarii (răspunsuri).gsheet', 'Samsung Galaxi S4 zoom.gdoc', 'Google Buzz', 'Java de la 0 la expert.gdoc', 'Introducere in XML.gdoc', 'New Collection', 'Sanatate', 'Bursa', 'Java scriere documentatie', 'Intretinere apartament', 'Prezentari', 'Books', 'script', '205896346_20140302_1P.pdf', 'FIV nereusit Ed1.pdf', 'Germană - 5 pe zi.pdf', 'Sprehen deutsch', 'Germana.odp', 'Irina Mihai.pdf', 'Foaie de calcul fără titlu (3).gsheet', 'Book1.xlsx', 'Plan de afaceri.gdoc', 'Document fără titlu (5).gdoc', '205896346_20141002_1P.pdf', 'table.gtable', 'View of table.gtable', 'Să învățăm HTML5,  CSS și JavaScript', 'ANDROID', 'C C++', 'Calendar 2015.gdoc', 'Instrumente linux', 'Document fără titlu (4).gdoc', '3145_Chap02.pdf', 'Untitled spreadsheet.gsheet', 'Untitled spreadsheet.gform', 'RaportulFonduluiBursa', 'Raportul Fondului Bursa martie.gdoc', 'Model buget FSE.doc', 'Document fără titlu (3).gdoc', 'Psihologia conducerii eficiente', 'cumsavafacetiplacut.pdf', 'Secretul unei personalitați atrăgătoare.gdoc', 'tableta.zip', '205896346_20150802_1P.pdf', '013143697X_book.pdf', 'Python', 'Perl', '2016-Goal-Setting-and-Action-Workbook pt Cornel.docx', 'Declarație.pdf', 'Fisa auto dl Mihai Cornel.xls', 'MagazinLinux', 'BVB SPOT_Portofoliu_MIHAICORNEL_20151231.pdf', 'movie', 'Tipuri structurate de date.gdoc', 'evaluare_nivel_initial-cpp.doc', 'evaluare_nivel_initial-cpp.gdoc', 'Saturday03.zip', 'Tema_Proiect.pdf', 'Ide.gdoc', 'googlescript', 'Afaceri', 'site.ro.gsite', 'Java-Design-Patterns(1).pdf', 'CV-Europass-20170108-Cornel-RO.pdf', 'IMG_20170417_143714.jpg', 'IMG_20170625_125415_1.jpg', 'Contract mem de fam BNR 2016.doc', 'JD RINF Python GUI Developer.pdf', 'Bash-Beginners-Guide.pdf', 'Bourne_Shell_Scripting.pdf', 'CERERE.docx', 'CERERE.gdoc', 'unknown', 'IMG_20170926_120751.jpg', 'Scan 26.09.2017 12_27.pdf', 'Scan 26.09.2017 12_40.pdf', 'Franceza', 'Copy of Map Mail Merge.gsheet', 'Romania2018_2028.gsheet', 'Romania2018-2028.gdoc', 'finanțeazăcereri.gdoc', 'Foaie de calcul fără titlu (1).gform', 'Foaie de calcul fără titlu.gform', 'p2pfinance.gsite', 'p2pfinance01.pdf', 'Afacerea Strussberg.gdoc', 'Document fără titlu (2).gdoc', 'Agenda.gdoc', 'fx.gdoc', 'Document fără titlu - Pie chart 1.gsheet', 'Document fără titlu (1).gdoc', 'BVB SPOT_JurnalNumerar_MIHAICORNEL_20171231.pdf', 'How to Create a Chrome Extension in 10.png', 'How to Make a Chrome Extension.png', 'screenshot-nimbus-screenshot.everhelper.me-2018.03.11-05-30-17 (1).png', 'screenshot-nimbus-screenshot.everhelper.me-2018.03.11-05-30-17.png', 'Foaie de calcul fără titlu (2).gsheet', '01GERMANA(2018)', '02Cpp2018', '03JavaSwing2018', 'Anticariat librarie - Contact form.gsheet', 'mac_puarsa_mrl.pdf', 'Bash Cookbook~tqw~_darksiderg.pdf', 'DSE 200X: Mini Project Presentation Template.gslides', 'ConcursSeptembrie 2013.gsheet', 'CV_mihai_cornel_ro_oct2018.pdf', 'Colab Notebooks', 'Concurs site .gsheet', 'Clienti.gsheet', 'Comenzi.gsheet', 'Untitled form (1).gsheet', 'testdate.gsheet', 'venus voiaj - Contact form.gsheet', 'mhcrnl - Contact form.gsheet', 'linuxdistributie - Untitled form.gsheet', '01scrapy.gdoc', 'Logout Reboot and Shutdown Linux Fedora Core operating system. | Linux Windows Install Setup Configuration Project.pdf', 'data-structures-algorithms-and-applications-in-c-by-sartraj-sahani.pdf', 'C', '20190414_201136.mp4', 'Cmus.gslides', 'Kazam.gslides', 'C&W ECHINOX, ÎN CLUJ: Trei companii de IT au închiriat 6.500 mp de spaţii de birouri - 30.05.2019 | BURSA.RO', 'Untitled form.gsheet', 'VID_20160701_082532.mp4', 'Foaie de calcul fără titlu (1).gsheet', 'BVB SPOT_Portofoliu_MIHAICORNEL_20190930.pdf', 'Learn spanish - Diagramă radială 1.gsheet', 'Prezentare fără titlu.gslides', 'Learn spanish.gdoc', 'PROFIL ELECTROMECANIC.pdf', 'Foaie de calcul fără titlu.gsheet', 'LIMBA GERMANA.gdoc', 'plata optionale  Ozana februarie.xls', 'Document fără titlu.gdoc', 'Articol Jam fără titlu', 'plata taxa parinti Ozana Martie_2020.xls', 'wxPython.gdoc', 'prezentare wxPython.gslides', 'Plan 2020.gdoc', 'Anyfile Notepad Files', 'Blockchain tutorial path.gdoc', 'Python Machine Learning.gslides', 'Untitled0.ipynb', 'README.md.gdoc', 'file.txt']\n"
          ],
          "name": "stdout"
        }
      ]
    },
    {
      "cell_type": "code",
      "metadata": {
        "id": "fKC4F8ErUTAS",
        "colab_type": "code",
        "colab": {}
      },
      "source": [
        "from google.colab import files\n",
        "files.download('/content/gdrive/My\\ Drive/file.txt')"
      ],
      "execution_count": 0,
      "outputs": []
    },
    {
      "cell_type": "code",
      "metadata": {
        "id": "gUVLrivmXe6H",
        "colab_type": "code",
        "colab": {
          "base_uri": "https://localhost:8080/",
          "height": 35
        },
        "outputId": "5747df1a-c29d-49bc-8cfb-3e2e3d4b350f"
      },
      "source": [
        "!cat /content/gdrive/My\\ Drive/file.txt"
      ],
      "execution_count": 32,
      "outputs": [
        {
          "output_type": "stream",
          "text": [
            "content"
          ],
          "name": "stdout"
        }
      ]
    },
    {
      "cell_type": "code",
      "metadata": {
        "id": "ReqNThEQaYYp",
        "colab_type": "code",
        "colab": {
          "resources": {
            "http://localhost:8080/nbextensions/google.colab/files.js": {
              "data": "Ly8gQ29weXJpZ2h0IDIwMTcgR29vZ2xlIExMQwovLwovLyBMaWNlbnNlZCB1bmRlciB0aGUgQXBhY2hlIExpY2Vuc2UsIFZlcnNpb24gMi4wICh0aGUgIkxpY2Vuc2UiKTsKLy8geW91IG1heSBub3QgdXNlIHRoaXMgZmlsZSBleGNlcHQgaW4gY29tcGxpYW5jZSB3aXRoIHRoZSBMaWNlbnNlLgovLyBZb3UgbWF5IG9idGFpbiBhIGNvcHkgb2YgdGhlIExpY2Vuc2UgYXQKLy8KLy8gICAgICBodHRwOi8vd3d3LmFwYWNoZS5vcmcvbGljZW5zZXMvTElDRU5TRS0yLjAKLy8KLy8gVW5sZXNzIHJlcXVpcmVkIGJ5IGFwcGxpY2FibGUgbGF3IG9yIGFncmVlZCB0byBpbiB3cml0aW5nLCBzb2Z0d2FyZQovLyBkaXN0cmlidXRlZCB1bmRlciB0aGUgTGljZW5zZSBpcyBkaXN0cmlidXRlZCBvbiBhbiAiQVMgSVMiIEJBU0lTLAovLyBXSVRIT1VUIFdBUlJBTlRJRVMgT1IgQ09ORElUSU9OUyBPRiBBTlkgS0lORCwgZWl0aGVyIGV4cHJlc3Mgb3IgaW1wbGllZC4KLy8gU2VlIHRoZSBMaWNlbnNlIGZvciB0aGUgc3BlY2lmaWMgbGFuZ3VhZ2UgZ292ZXJuaW5nIHBlcm1pc3Npb25zIGFuZAovLyBsaW1pdGF0aW9ucyB1bmRlciB0aGUgTGljZW5zZS4KCi8qKgogKiBAZmlsZW92ZXJ2aWV3IEhlbHBlcnMgZm9yIGdvb2dsZS5jb2xhYiBQeXRob24gbW9kdWxlLgogKi8KKGZ1bmN0aW9uKHNjb3BlKSB7CmZ1bmN0aW9uIHNwYW4odGV4dCwgc3R5bGVBdHRyaWJ1dGVzID0ge30pIHsKICBjb25zdCBlbGVtZW50ID0gZG9jdW1lbnQuY3JlYXRlRWxlbWVudCgnc3BhbicpOwogIGVsZW1lbnQudGV4dENvbnRlbnQgPSB0ZXh0OwogIGZvciAoY29uc3Qga2V5IG9mIE9iamVjdC5rZXlzKHN0eWxlQXR0cmlidXRlcykpIHsKICAgIGVsZW1lbnQuc3R5bGVba2V5XSA9IHN0eWxlQXR0cmlidXRlc1trZXldOwogIH0KICByZXR1cm4gZWxlbWVudDsKfQoKLy8gTWF4IG51bWJlciBvZiBieXRlcyB3aGljaCB3aWxsIGJlIHVwbG9hZGVkIGF0IGEgdGltZS4KY29uc3QgTUFYX1BBWUxPQURfU0laRSA9IDEwMCAqIDEwMjQ7Ci8vIE1heCBhbW91bnQgb2YgdGltZSB0byBibG9jayB3YWl0aW5nIGZvciB0aGUgdXNlci4KY29uc3QgRklMRV9DSEFOR0VfVElNRU9VVF9NUyA9IDMwICogMTAwMDsKCmZ1bmN0aW9uIF91cGxvYWRGaWxlcyhpbnB1dElkLCBvdXRwdXRJZCkgewogIGNvbnN0IHN0ZXBzID0gdXBsb2FkRmlsZXNTdGVwKGlucHV0SWQsIG91dHB1dElkKTsKICBjb25zdCBvdXRwdXRFbGVtZW50ID0gZG9jdW1lbnQuZ2V0RWxlbWVudEJ5SWQob3V0cHV0SWQpOwogIC8vIENhY2hlIHN0ZXBzIG9uIHRoZSBvdXRwdXRFbGVtZW50IHRvIG1ha2UgaXQgYXZhaWxhYmxlIGZvciB0aGUgbmV4dCBjYWxsCiAgLy8gdG8gdXBsb2FkRmlsZXNDb250aW51ZSBmcm9tIFB5dGhvbi4KICBvdXRwdXRFbGVtZW50LnN0ZXBzID0gc3RlcHM7CgogIHJldHVybiBfdXBsb2FkRmlsZXNDb250aW51ZShvdXRwdXRJZCk7Cn0KCi8vIFRoaXMgaXMgcm91Z2hseSBhbiBhc3luYyBnZW5lcmF0b3IgKG5vdCBzdXBwb3J0ZWQgaW4gdGhlIGJyb3dzZXIgeWV0KSwKLy8gd2hlcmUgdGhlcmUgYXJlIG11bHRpcGxlIGFzeW5jaHJvbm91cyBzdGVwcyBhbmQgdGhlIFB5dGhvbiBzaWRlIGlzIGdvaW5nCi8vIHRvIHBvbGwgZm9yIGNvbXBsZXRpb24gb2YgZWFjaCBzdGVwLgovLyBUaGlzIHVzZXMgYSBQcm9taXNlIHRvIGJsb2NrIHRoZSBweXRob24gc2lkZSBvbiBjb21wbGV0aW9uIG9mIGVhY2ggc3RlcCwKLy8gdGhlbiBwYXNzZXMgdGhlIHJlc3VsdCBvZiB0aGUgcHJldmlvdXMgc3RlcCBhcyB0aGUgaW5wdXQgdG8gdGhlIG5leHQgc3RlcC4KZnVuY3Rpb24gX3VwbG9hZEZpbGVzQ29udGludWUob3V0cHV0SWQpIHsKICBjb25zdCBvdXRwdXRFbGVtZW50ID0gZG9jdW1lbnQuZ2V0RWxlbWVudEJ5SWQob3V0cHV0SWQpOwogIGNvbnN0IHN0ZXBzID0gb3V0cHV0RWxlbWVudC5zdGVwczsKCiAgY29uc3QgbmV4dCA9IHN0ZXBzLm5leHQob3V0cHV0RWxlbWVudC5sYXN0UHJvbWlzZVZhbHVlKTsKICByZXR1cm4gUHJvbWlzZS5yZXNvbHZlKG5leHQudmFsdWUucHJvbWlzZSkudGhlbigodmFsdWUpID0+IHsKICAgIC8vIENhY2hlIHRoZSBsYXN0IHByb21pc2UgdmFsdWUgdG8gbWFrZSBpdCBhdmFpbGFibGUgdG8gdGhlIG5leHQKICAgIC8vIHN0ZXAgb2YgdGhlIGdlbmVyYXRvci4KICAgIG91dHB1dEVsZW1lbnQubGFzdFByb21pc2VWYWx1ZSA9IHZhbHVlOwogICAgcmV0dXJuIG5leHQudmFsdWUucmVzcG9uc2U7CiAgfSk7Cn0KCi8qKgogKiBHZW5lcmF0b3IgZnVuY3Rpb24gd2hpY2ggaXMgY2FsbGVkIGJldHdlZW4gZWFjaCBhc3luYyBzdGVwIG9mIHRoZSB1cGxvYWQKICogcHJvY2Vzcy4KICogQHBhcmFtIHtzdHJpbmd9IGlucHV0SWQgRWxlbWVudCBJRCBvZiB0aGUgaW5wdXQgZmlsZSBwaWNrZXIgZWxlbWVudC4KICogQHBhcmFtIHtzdHJpbmd9IG91dHB1dElkIEVsZW1lbnQgSUQgb2YgdGhlIG91dHB1dCBkaXNwbGF5LgogKiBAcmV0dXJuIHshSXRlcmFibGU8IU9iamVjdD59IEl0ZXJhYmxlIG9mIG5leHQgc3RlcHMuCiAqLwpmdW5jdGlvbiogdXBsb2FkRmlsZXNTdGVwKGlucHV0SWQsIG91dHB1dElkKSB7CiAgY29uc3QgaW5wdXRFbGVtZW50ID0gZG9jdW1lbnQuZ2V0RWxlbWVudEJ5SWQoaW5wdXRJZCk7CiAgaW5wdXRFbGVtZW50LmRpc2FibGVkID0gZmFsc2U7CgogIGNvbnN0IG91dHB1dEVsZW1lbnQgPSBkb2N1bWVudC5nZXRFbGVtZW50QnlJZChvdXRwdXRJZCk7CiAgb3V0cHV0RWxlbWVudC5pbm5lckhUTUwgPSAnJzsKCiAgY29uc3QgcGlja2VkUHJvbWlzZSA9IG5ldyBQcm9taXNlKChyZXNvbHZlKSA9PiB7CiAgICBpbnB1dEVsZW1lbnQuYWRkRXZlbnRMaXN0ZW5lcignY2hhbmdlJywgKGUpID0+IHsKICAgICAgcmVzb2x2ZShlLnRhcmdldC5maWxlcyk7CiAgICB9KTsKICB9KTsKCiAgY29uc3QgY2FuY2VsID0gZG9jdW1lbnQuY3JlYXRlRWxlbWVudCgnYnV0dG9uJyk7CiAgaW5wdXRFbGVtZW50LnBhcmVudEVsZW1lbnQuYXBwZW5kQ2hpbGQoY2FuY2VsKTsKICBjYW5jZWwudGV4dENvbnRlbnQgPSAnQ2FuY2VsIHVwbG9hZCc7CiAgY29uc3QgY2FuY2VsUHJvbWlzZSA9IG5ldyBQcm9taXNlKChyZXNvbHZlKSA9PiB7CiAgICBjYW5jZWwub25jbGljayA9ICgpID0+IHsKICAgICAgcmVzb2x2ZShudWxsKTsKICAgIH07CiAgfSk7CgogIC8vIENhbmNlbCB1cGxvYWQgaWYgdXNlciBoYXNuJ3QgcGlja2VkIGFueXRoaW5nIGluIHRpbWVvdXQuCiAgY29uc3QgdGltZW91dFByb21pc2UgPSBuZXcgUHJvbWlzZSgocmVzb2x2ZSkgPT4gewogICAgc2V0VGltZW91dCgoKSA9PiB7CiAgICAgIHJlc29sdmUobnVsbCk7CiAgICB9LCBGSUxFX0NIQU5HRV9USU1FT1VUX01TKTsKICB9KTsKCiAgLy8gV2FpdCBmb3IgdGhlIHVzZXIgdG8gcGljayB0aGUgZmlsZXMuCiAgY29uc3QgZmlsZXMgPSB5aWVsZCB7CiAgICBwcm9taXNlOiBQcm9taXNlLnJhY2UoW3BpY2tlZFByb21pc2UsIHRpbWVvdXRQcm9taXNlLCBjYW5jZWxQcm9taXNlXSksCiAgICByZXNwb25zZTogewogICAgICBhY3Rpb246ICdzdGFydGluZycsCiAgICB9CiAgfTsKCiAgaWYgKCFmaWxlcykgewogICAgcmV0dXJuIHsKICAgICAgcmVzcG9uc2U6IHsKICAgICAgICBhY3Rpb246ICdjb21wbGV0ZScsCiAgICAgIH0KICAgIH07CiAgfQoKICBjYW5jZWwucmVtb3ZlKCk7CgogIC8vIERpc2FibGUgdGhlIGlucHV0IGVsZW1lbnQgc2luY2UgZnVydGhlciBwaWNrcyBhcmUgbm90IGFsbG93ZWQuCiAgaW5wdXRFbGVtZW50LmRpc2FibGVkID0gdHJ1ZTsKCiAgZm9yIChjb25zdCBmaWxlIG9mIGZpbGVzKSB7CiAgICBjb25zdCBsaSA9IGRvY3VtZW50LmNyZWF0ZUVsZW1lbnQoJ2xpJyk7CiAgICBsaS5hcHBlbmQoc3BhbihmaWxlLm5hbWUsIHtmb250V2VpZ2h0OiAnYm9sZCd9KSk7CiAgICBsaS5hcHBlbmQoc3BhbigKICAgICAgICBgKCR7ZmlsZS50eXBlIHx8ICduL2EnfSkgLSAke2ZpbGUuc2l6ZX0gYnl0ZXMsIGAgKwogICAgICAgIGBsYXN0IG1vZGlmaWVkOiAkewogICAgICAgICAgICBmaWxlLmxhc3RNb2RpZmllZERhdGUgPyBmaWxlLmxhc3RNb2RpZmllZERhdGUudG9Mb2NhbGVEYXRlU3RyaW5nKCkgOgogICAgICAgICAgICAgICAgICAgICAgICAgICAgICAgICAgICAnbi9hJ30gLSBgKSk7CiAgICBjb25zdCBwZXJjZW50ID0gc3BhbignMCUgZG9uZScpOwogICAgbGkuYXBwZW5kQ2hpbGQocGVyY2VudCk7CgogICAgb3V0cHV0RWxlbWVudC5hcHBlbmRDaGlsZChsaSk7CgogICAgY29uc3QgZmlsZURhdGFQcm9taXNlID0gbmV3IFByb21pc2UoKHJlc29sdmUpID0+IHsKICAgICAgY29uc3QgcmVhZGVyID0gbmV3IEZpbGVSZWFkZXIoKTsKICAgICAgcmVhZGVyLm9ubG9hZCA9IChlKSA9PiB7CiAgICAgICAgcmVzb2x2ZShlLnRhcmdldC5yZXN1bHQpOwogICAgICB9OwogICAgICByZWFkZXIucmVhZEFzQXJyYXlCdWZmZXIoZmlsZSk7CiAgICB9KTsKICAgIC8vIFdhaXQgZm9yIHRoZSBkYXRhIHRvIGJlIHJlYWR5LgogICAgbGV0IGZpbGVEYXRhID0geWllbGQgewogICAgICBwcm9taXNlOiBmaWxlRGF0YVByb21pc2UsCiAgICAgIHJlc3BvbnNlOiB7CiAgICAgICAgYWN0aW9uOiAnY29udGludWUnLAogICAgICB9CiAgICB9OwoKICAgIC8vIFVzZSBhIGNodW5rZWQgc2VuZGluZyB0byBhdm9pZCBtZXNzYWdlIHNpemUgbGltaXRzLiBTZWUgYi82MjExNTY2MC4KICAgIGxldCBwb3NpdGlvbiA9IDA7CiAgICB3aGlsZSAocG9zaXRpb24gPCBmaWxlRGF0YS5ieXRlTGVuZ3RoKSB7CiAgICAgIGNvbnN0IGxlbmd0aCA9IE1hdGgubWluKGZpbGVEYXRhLmJ5dGVMZW5ndGggLSBwb3NpdGlvbiwgTUFYX1BBWUxPQURfU0laRSk7CiAgICAgIGNvbnN0IGNodW5rID0gbmV3IFVpbnQ4QXJyYXkoZmlsZURhdGEsIHBvc2l0aW9uLCBsZW5ndGgpOwogICAgICBwb3NpdGlvbiArPSBsZW5ndGg7CgogICAgICBjb25zdCBiYXNlNjQgPSBidG9hKFN0cmluZy5mcm9tQ2hhckNvZGUuYXBwbHkobnVsbCwgY2h1bmspKTsKICAgICAgeWllbGQgewogICAgICAgIHJlc3BvbnNlOiB7CiAgICAgICAgICBhY3Rpb246ICdhcHBlbmQnLAogICAgICAgICAgZmlsZTogZmlsZS5uYW1lLAogICAgICAgICAgZGF0YTogYmFzZTY0LAogICAgICAgIH0sCiAgICAgIH07CiAgICAgIHBlcmNlbnQudGV4dENvbnRlbnQgPQogICAgICAgICAgYCR7TWF0aC5yb3VuZCgocG9zaXRpb24gLyBmaWxlRGF0YS5ieXRlTGVuZ3RoKSAqIDEwMCl9JSBkb25lYDsKICAgIH0KICB9CgogIC8vIEFsbCBkb25lLgogIHlpZWxkIHsKICAgIHJlc3BvbnNlOiB7CiAgICAgIGFjdGlvbjogJ2NvbXBsZXRlJywKICAgIH0KICB9Owp9CgpzY29wZS5nb29nbGUgPSBzY29wZS5nb29nbGUgfHwge307CnNjb3BlLmdvb2dsZS5jb2xhYiA9IHNjb3BlLmdvb2dsZS5jb2xhYiB8fCB7fTsKc2NvcGUuZ29vZ2xlLmNvbGFiLl9maWxlcyA9IHsKICBfdXBsb2FkRmlsZXMsCiAgX3VwbG9hZEZpbGVzQ29udGludWUsCn07Cn0pKHNlbGYpOwo=",
              "ok": true,
              "headers": [
                [
                  "content-type",
                  "application/javascript"
                ]
              ],
              "status": 200,
              "status_text": ""
            }
          },
          "base_uri": "https://localhost:8080/",
          "height": 93
        },
        "outputId": "d1ba0633-5b70-44a6-e48b-9eda31dde433"
      },
      "source": [
        "from google.colab import files\n",
        "\n",
        "uploaded = files.upload()\n",
        "\n",
        "for fn in uploaded.keys():\n",
        "  print('User uploaded file \"{name}\" with length {length} bytes'.format(\n",
        "      name=fn, length=len(uploaded[fn])))"
      ],
      "execution_count": 34,
      "outputs": [
        {
          "output_type": "display_data",
          "data": {
            "text/html": [
              "\n",
              "     <input type=\"file\" id=\"files-97eb4fcf-13c1-4e05-81cc-f47214455b6e\" name=\"files[]\" multiple disabled />\n",
              "     <output id=\"result-97eb4fcf-13c1-4e05-81cc-f47214455b6e\">\n",
              "      Upload widget is only available when the cell has been executed in the\n",
              "      current browser session. Please rerun this cell to enable.\n",
              "      </output>\n",
              "      <script src=\"/nbextensions/google.colab/files.js\"></script> "
            ],
            "text/plain": [
              "<IPython.core.display.HTML object>"
            ]
          },
          "metadata": {
            "tags": []
          }
        },
        {
          "output_type": "stream",
          "text": [
            "Saving IMG_1586845749426.jpg to IMG_1586845749426.jpg\n",
            "User uploaded file \"IMG_1586845749426.jpg\" with length 338284 bytes\n"
          ],
          "name": "stdout"
        }
      ]
    }
  ]
}