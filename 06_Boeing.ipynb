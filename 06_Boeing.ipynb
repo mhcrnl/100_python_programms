{
 "cells": [
  {
   "cell_type": "code",
   "execution_count": 5,
   "metadata": {},
   "outputs": [
    {
     "data": {
      "text/html": [
       "<a href=https://finance.yahoo.com/quote/BA?p=BA>Boeing</a>"
      ],
      "text/plain": [
       "<IPython.core.display.HTML object>"
      ]
     },
     "metadata": {},
     "output_type": "display_data"
    }
   ],
   "source": [
    "# Boeing (BA) stock market \n",
    "from IPython.core.display import display, HTML\n",
    "display(HTML(\"\"\"<a href=https://finance.yahoo.com/quote/BA?p=BA>Boeing</a>\"\"\"))"
   ]
  },
  {
   "cell_type": "code",
   "execution_count": 2,
   "metadata": {},
   "outputs": [
    {
     "data": {
      "text/html": [
       "<div>\n",
       "<style scoped>\n",
       "    .dataframe tbody tr th:only-of-type {\n",
       "        vertical-align: middle;\n",
       "    }\n",
       "\n",
       "    .dataframe tbody tr th {\n",
       "        vertical-align: top;\n",
       "    }\n",
       "\n",
       "    .dataframe thead th {\n",
       "        text-align: right;\n",
       "    }\n",
       "</style>\n",
       "<table border=\"1\" class=\"dataframe\">\n",
       "  <thead>\n",
       "    <tr style=\"text-align: right;\">\n",
       "      <th></th>\n",
       "      <th>High</th>\n",
       "      <th>Low</th>\n",
       "      <th>Open</th>\n",
       "      <th>Close</th>\n",
       "      <th>Volume</th>\n",
       "      <th>Adj Close</th>\n",
       "    </tr>\n",
       "    <tr>\n",
       "      <th>Date</th>\n",
       "      <th></th>\n",
       "      <th></th>\n",
       "      <th></th>\n",
       "      <th></th>\n",
       "      <th></th>\n",
       "      <th></th>\n",
       "    </tr>\n",
       "  </thead>\n",
       "  <tbody>\n",
       "    <tr>\n",
       "      <td>2020-04-17</td>\n",
       "      <td>154.000000</td>\n",
       "      <td>145.000000</td>\n",
       "      <td>149.410004</td>\n",
       "      <td>154.000000</td>\n",
       "      <td>52389400.0</td>\n",
       "      <td>154.000000</td>\n",
       "    </tr>\n",
       "    <tr>\n",
       "      <td>2020-04-20</td>\n",
       "      <td>151.630005</td>\n",
       "      <td>142.500000</td>\n",
       "      <td>147.210007</td>\n",
       "      <td>143.610001</td>\n",
       "      <td>34983800.0</td>\n",
       "      <td>143.610001</td>\n",
       "    </tr>\n",
       "    <tr>\n",
       "      <td>2020-04-21</td>\n",
       "      <td>141.899994</td>\n",
       "      <td>135.449997</td>\n",
       "      <td>139.009995</td>\n",
       "      <td>136.330002</td>\n",
       "      <td>27043800.0</td>\n",
       "      <td>136.330002</td>\n",
       "    </tr>\n",
       "    <tr>\n",
       "      <td>2020-04-22</td>\n",
       "      <td>140.820007</td>\n",
       "      <td>134.520004</td>\n",
       "      <td>140.419998</td>\n",
       "      <td>134.970001</td>\n",
       "      <td>22734500.0</td>\n",
       "      <td>134.970001</td>\n",
       "    </tr>\n",
       "    <tr>\n",
       "      <td>2020-04-23</td>\n",
       "      <td>140.309998</td>\n",
       "      <td>136.110001</td>\n",
       "      <td>136.500000</td>\n",
       "      <td>139.037994</td>\n",
       "      <td>7850807.0</td>\n",
       "      <td>139.037994</td>\n",
       "    </tr>\n",
       "  </tbody>\n",
       "</table>\n",
       "</div>"
      ],
      "text/plain": [
       "                  High         Low        Open       Close      Volume  \\\n",
       "Date                                                                     \n",
       "2020-04-17  154.000000  145.000000  149.410004  154.000000  52389400.0   \n",
       "2020-04-20  151.630005  142.500000  147.210007  143.610001  34983800.0   \n",
       "2020-04-21  141.899994  135.449997  139.009995  136.330002  27043800.0   \n",
       "2020-04-22  140.820007  134.520004  140.419998  134.970001  22734500.0   \n",
       "2020-04-23  140.309998  136.110001  136.500000  139.037994   7850807.0   \n",
       "\n",
       "             Adj Close  \n",
       "Date                    \n",
       "2020-04-17  154.000000  \n",
       "2020-04-20  143.610001  \n",
       "2020-04-21  136.330002  \n",
       "2020-04-22  134.970001  \n",
       "2020-04-23  139.037994  "
      ]
     },
     "execution_count": 2,
     "metadata": {},
     "output_type": "execute_result"
    }
   ],
   "source": [
    "import pandas_datareader as pdr\n",
    "import datetime\n",
    "\n",
    "stock = 'BA'\n",
    "start = datetime.datetime(2020, 1, 3)\n",
    "end = datetime.date.today()\n",
    "\n",
    "BA = pdr.get_data_yahoo(stock, start, end)\n",
    "BA.tail()"
   ]
  },
  {
   "cell_type": "code",
   "execution_count": null,
   "metadata": {},
   "outputs": [],
   "source": [
    "%matplotlib inline\n",
    "import matplotlib.pyplot as plt\n",
    "plt.style.use('seaborn-whitegrid')\n",
    "import numpy as np\n",
    "\n",
    "fig, ax = plt.subplots(figsize=(12,8))\n",
    "ax.plot(BA['Close'], label=\"Preturi la inchidere\")\n",
    "#plt.figure(figsize=(16,10))\n",
    "plt.title(\"Actiunea Boeing\")\n",
    "plt.ylabel(\"Pret in USD.\");"
   ]
  },
  {
   "cell_type": "code",
   "execution_count": 10,
   "metadata": {},
   "outputs": [
    {
     "name": "stdout",
     "output_type": "stream",
     "text": [
      "Date\n",
      "2020-01-03           NaN\n",
      "2020-01-06           NaN\n",
      "2020-01-07           NaN\n",
      "2020-01-08           NaN\n",
      "2020-01-09           NaN\n",
      "                 ...    \n",
      "2020-04-15    140.185999\n",
      "2020-04-16    140.539999\n",
      "2020-04-17    143.613000\n",
      "2020-04-20    145.522000\n",
      "2020-04-21    144.297009\n",
      "Name: Close, Length: 75, dtype: float64\n"
     ]
    }
   ],
   "source": [
    "def media_mobila_simpla(cost_actiune, nr_zile):\n",
    "    act_mms = cost_actiune.rolling(window=nr_zile).mean()\n",
    "    return act_mms\n",
    "\n",
    "print(media_mobila_simpla(BA['Close'], 10))"
   ]
  },
  {
   "cell_type": "code",
   "execution_count": null,
   "metadata": {},
   "outputs": [],
   "source": []
  },
  {
   "cell_type": "code",
   "execution_count": null,
   "metadata": {},
   "outputs": [],
   "source": []
  },
  {
   "cell_type": "code",
   "execution_count": null,
   "metadata": {},
   "outputs": [],
   "source": [
    "mhcrnl@gmail.com"
   ]
  }
 ],
 "metadata": {
  "kernelspec": {
   "display_name": "Python 3",
   "language": "python",
   "name": "python3"
  },
  "language_info": {
   "codemirror_mode": {
    "name": "ipython",
    "version": 3
   },
   "file_extension": ".py",
   "mimetype": "text/x-python",
   "name": "python",
   "nbconvert_exporter": "python",
   "pygments_lexer": "ipython3",
   "version": "3.7.4"
  }
 },
 "nbformat": 4,
 "nbformat_minor": 4
}
