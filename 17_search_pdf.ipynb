{
 "cells": [
  {
   "cell_type": "code",
   "execution_count": 8,
   "metadata": {},
   "outputs": [
    {
     "name": "stdout",
     "output_type": "stream",
     "text": [
      "Search for pdf file: \n",
      "Tengo un pdf: Advanced_Python_Programming_David_M.BeazleyOReilly_Open_Source_Conference_2000.pdf\n",
      "Tengo un pdf: an-introduction-to-tkinter.pdf\n",
      "Tengo un pdf: Apress.Beginning.Python.From.Novice.to.Professional.Sep.2005.pdf\n",
      "Tengo un pdf: beginning-game-development-with-python-and-pygame-from-novice-to-professional.9781590598726.29808.pdf\n",
      "Tengo un pdf: byteofpython_120.pdf\n",
      "Tengo un pdf: How_To_Think_Like_A_Computer_Scientist-Learning_With_Python-2002.pdf\n",
      "Tengo un pdf: John.Wiley.and.Sons.Making.Use.of.Python.eBook-LinG.pdf\n",
      "Tengo un pdf: Manning.Publications.wxPython.in.Action.Mar.2006.pdf\n",
      "Tengo un pdf: oodesign.pdf\n",
      "Tengo un pdf: OReilly%20-%20Core%20Python%20Programming.pdf\n",
      "Tengo un pdf: OReilly%20-%20Python%20&%20XML.pdf\n",
      "Tengo un pdf: OReilly.Python.for.Unix.and.Linux.System.Administration.Sep.2008.pdf\n",
      "Tengo un pdf: Packt.Publishing.Learning.Website.Development.with.Django.Mar.2008.pdf\n",
      "Tengo un pdf: pil-handbook.pdf\n",
      "Tengo un pdf: Python%20-%20Database%20Application%20Programming%20Interface.pdf\n",
      "Tengo un pdf: python-for-perl-hackers.pdf\n",
      "Tengo un pdf: python_otkidach_ru.pdf\n",
      "Tengo un pdf: python_quick_tour.pdf\n",
      "Tengo un pdf: pythonbook-2.5.pdf\n",
      "Tengo un pdf: pytut.pdf\n",
      "Tengo un pdf: ru_Zope3.pdf\n",
      "Tengo un pdf: Ruby%20Vs%20Perl%20And%20Python.pdf\n",
      "Tengo un pdf: Springer.Python.Scripting.for.Computational.Science.3rd.Edition.Jan.2008.eBook-BBL.pdf\n",
      "Tengo un pdf: start_with_pythonRU.pdf\n",
      "Tengo un pdf: The%20Definitive%20Guide%20to%20Django%20-%20Apress.pdf\n",
      "Tengo un pdf: thinkCSpy.pdf\n",
      "Tengo un pdf: tkinter.pdf\n",
      "Tengo un pdf: tutor.pdf\n",
      "Tengo un pdf: Wrox.Beginning.Python.Jul.2005.eBook-LinG.pdf\n",
      "Tengo un pdf: Wrox.Python.Create.Modify.Reuse.Jul.2008.pdf\n"
     ]
    }
   ],
   "source": [
    "print(\"Search for pdf file: \")\n",
    "#!pip install urllib2\n",
    "from urllib.request import urlopen\n",
    "from bs4 import BeautifulSoup\n",
    "my_url = 'http://slav0nic.org.ua/static/books/python/'\n",
    "html=urlopen(my_url).read()\n",
    "sopa = BeautifulSoup(html)\n",
    "current_link = ''\n",
    "for link in sopa.find_all('a'):\n",
    "  current_link = link.get('href')\n",
    "  if current_link.endswith('pdf'):\n",
    "    print('Linkuri gasite pdf: ' + current_link)"
   ]
  },
  {
   "cell_type": "code",
   "execution_count": null,
   "metadata": {},
   "outputs": [],
   "source": []
  },
  {
   "cell_type": "code",
   "execution_count": null,
   "metadata": {},
   "outputs": [],
   "source": []
  }
 ],
 "metadata": {
  "kernelspec": {
   "display_name": "Python 3",
   "language": "python",
   "name": "python3"
  },
  "language_info": {
   "codemirror_mode": {
    "name": "ipython",
    "version": 3
   },
   "file_extension": ".py",
   "mimetype": "text/x-python",
   "name": "python",
   "nbconvert_exporter": "python",
   "pygments_lexer": "ipython3",
   "version": "3.7.6"
  }
 },
 "nbformat": 4,
 "nbformat_minor": 2
}
