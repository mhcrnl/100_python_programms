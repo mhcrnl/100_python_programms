{
  "nbformat": 4,
  "nbformat_minor": 0,
  "metadata": {
    "kernel_info": {
      "name": "python3"
    },
    "kernelspec": {
      "display_name": "Python 3",
      "language": "python",
      "name": "python3"
    },
    "language_info": {
      "codemirror_mode": {
        "name": "ipython",
        "version": 3
      },
      "file_extension": ".py",
      "mimetype": "text/x-python",
      "name": "python",
      "nbconvert_exporter": "python",
      "pygments_lexer": "ipython3",
      "version": "3.7.4"
    },
    "nteract": {
      "version": "0.12.2"
    },
    "colab": {
      "name": "01_SimpleFetchStockData-checkpoint.ipynb",
      "provenance": [],
      "include_colab_link": true
    }
  },
  "cells": [
    {
      "cell_type": "markdown",
      "metadata": {
        "id": "view-in-github",
        "colab_type": "text"
      },
      "source": [
        "<a href=\"https://colab.research.google.com/github/mhcrnl/100_python_programms/blob/master/.ipynb_checkpoints/26_SimpleFetchStockData-checkpoint.ipynb\" target=\"_parent\"><img src=\"https://colab.research.google.com/assets/colab-badge.svg\" alt=\"Open In Colab\"/></a>"
      ]
    },
    {
      "cell_type": "markdown",
      "metadata": {
        "id": "T0JWir7XejXU",
        "colab_type": "text"
      },
      "source": [
        "# Simple Download Stock Data Site"
      ]
    },
    {
      "cell_type": "markdown",
      "metadata": {
        "id": "rdCEEfK5ejXa",
        "colab_type": "text"
      },
      "source": [
        "There are many sites you can download or fetch stock historical data or fundamental data such as yahoo, google, alpha vantage, quandl and other sites. Some are free and some you have to paid. Some you will need to sign up and some you do not need to sign up."
      ]
    },
    {
      "cell_type": "markdown",
      "metadata": {
        "id": "kb5HNqmZejXd",
        "colab_type": "text"
      },
      "source": [
        "## 1. fix yahoo is the most common\n",
        "https://pypi.org/project/fix-yahoo-finance/"
      ]
    },
    {
      "cell_type": "code",
      "metadata": {
        "inputHidden": false,
        "outputHidden": false,
        "id": "j39VhyyMejXh",
        "colab_type": "code",
        "colab": {}
      },
      "source": [
        "# Libraries\n",
        "import pandas as pd\n",
        "import numpy as np\n",
        "import datetime\n",
        "import warnings\n",
        "warnings.filterwarnings(\"ignore\")"
      ],
      "execution_count": 0,
      "outputs": []
    },
    {
      "cell_type": "code",
      "metadata": {
        "inputHidden": false,
        "outputHidden": false,
        "id": "m8KTY3oCejX1",
        "colab_type": "code",
        "colab": {
          "base_uri": "https://localhost:8080/",
          "height": 35
        },
        "outputId": "8bec2dc9-fb9e-4459-84b4-8abccac20ca2"
      },
      "source": [
        "# fix_yahoo_finance is used to fetch data \n",
        "import fix_yahoo_finance as yf\n",
        "print(yf.__version__)\n",
        "yf.pdr_override()"
      ],
      "execution_count": 6,
      "outputs": [
        {
          "output_type": "stream",
          "text": [
            "0.0.22\n"
          ],
          "name": "stdout"
        }
      ]
    },
    {
      "cell_type": "code",
      "metadata": {
        "inputHidden": false,
        "outputHidden": false,
        "id": "5EI28D6xejYG",
        "colab_type": "code",
        "colab": {}
      },
      "source": [
        "# input\n",
        "symbol = 'AAPL'\n",
        "start = '2014-01-01'\n",
        "end = datetime.date.today()"
      ],
      "execution_count": 0,
      "outputs": []
    },
    {
      "cell_type": "code",
      "metadata": {
        "inputHidden": false,
        "outputHidden": false,
        "id": "5fQTn8HoejYd",
        "colab_type": "code",
        "colab": {
          "base_uri": "https://localhost:8080/",
          "height": 250
        },
        "outputId": "c4113680-b4c7-4235-ee97-663af4d07346"
      },
      "source": [
        "# Read data \n",
        "df = yf.download(symbol,start,end)\n",
        "\n",
        "# Only keep close columns \n",
        "df.head()"
      ],
      "execution_count": 8,
      "outputs": [
        {
          "output_type": "stream",
          "text": [
            "[*********************100%***********************]  1 of 1 downloaded\n"
          ],
          "name": "stdout"
        },
        {
          "output_type": "execute_result",
          "data": {
            "text/html": [
              "<div>\n",
              "<style scoped>\n",
              "    .dataframe tbody tr th:only-of-type {\n",
              "        vertical-align: middle;\n",
              "    }\n",
              "\n",
              "    .dataframe tbody tr th {\n",
              "        vertical-align: top;\n",
              "    }\n",
              "\n",
              "    .dataframe thead th {\n",
              "        text-align: right;\n",
              "    }\n",
              "</style>\n",
              "<table border=\"1\" class=\"dataframe\">\n",
              "  <thead>\n",
              "    <tr style=\"text-align: right;\">\n",
              "      <th></th>\n",
              "      <th>Open</th>\n",
              "      <th>High</th>\n",
              "      <th>Low</th>\n",
              "      <th>Close</th>\n",
              "      <th>Adj Close</th>\n",
              "      <th>Volume</th>\n",
              "    </tr>\n",
              "    <tr>\n",
              "      <th>Date</th>\n",
              "      <th></th>\n",
              "      <th></th>\n",
              "      <th></th>\n",
              "      <th></th>\n",
              "      <th></th>\n",
              "      <th></th>\n",
              "    </tr>\n",
              "  </thead>\n",
              "  <tbody>\n",
              "    <tr>\n",
              "      <th>2014-01-02</th>\n",
              "      <td>79.382858</td>\n",
              "      <td>79.575714</td>\n",
              "      <td>78.860001</td>\n",
              "      <td>79.018570</td>\n",
              "      <td>70.938835</td>\n",
              "      <td>58671200</td>\n",
              "    </tr>\n",
              "    <tr>\n",
              "      <th>2014-01-03</th>\n",
              "      <td>78.980003</td>\n",
              "      <td>79.099998</td>\n",
              "      <td>77.204285</td>\n",
              "      <td>77.282860</td>\n",
              "      <td>69.380615</td>\n",
              "      <td>98116900</td>\n",
              "    </tr>\n",
              "    <tr>\n",
              "      <th>2014-01-06</th>\n",
              "      <td>76.778572</td>\n",
              "      <td>78.114288</td>\n",
              "      <td>76.228569</td>\n",
              "      <td>77.704285</td>\n",
              "      <td>69.758965</td>\n",
              "      <td>103152700</td>\n",
              "    </tr>\n",
              "    <tr>\n",
              "      <th>2014-01-07</th>\n",
              "      <td>77.760002</td>\n",
              "      <td>77.994286</td>\n",
              "      <td>76.845711</td>\n",
              "      <td>77.148575</td>\n",
              "      <td>69.260056</td>\n",
              "      <td>79302300</td>\n",
              "    </tr>\n",
              "    <tr>\n",
              "      <th>2014-01-08</th>\n",
              "      <td>76.972855</td>\n",
              "      <td>77.937141</td>\n",
              "      <td>76.955711</td>\n",
              "      <td>77.637146</td>\n",
              "      <td>69.698692</td>\n",
              "      <td>64632400</td>\n",
              "    </tr>\n",
              "  </tbody>\n",
              "</table>\n",
              "</div>"
            ],
            "text/plain": [
              "                 Open       High        Low      Close  Adj Close     Volume\n",
              "Date                                                                        \n",
              "2014-01-02  79.382858  79.575714  78.860001  79.018570  70.938835   58671200\n",
              "2014-01-03  78.980003  79.099998  77.204285  77.282860  69.380615   98116900\n",
              "2014-01-06  76.778572  78.114288  76.228569  77.704285  69.758965  103152700\n",
              "2014-01-07  77.760002  77.994286  76.845711  77.148575  69.260056   79302300\n",
              "2014-01-08  76.972855  77.937141  76.955711  77.637146  69.698692   64632400"
            ]
          },
          "metadata": {
            "tags": []
          },
          "execution_count": 8
        }
      ]
    },
    {
      "cell_type": "markdown",
      "metadata": {
        "id": "OPRBYv4-ejYt",
        "colab_type": "text"
      },
      "source": [
        "## 2. pandas_datareader\n",
        "This library work sometimes. I recommend not to use to this one.\n",
        "\n",
        "https://pandas-datareader.readthedocs.io/en/latest/"
      ]
    },
    {
      "cell_type": "code",
      "metadata": {
        "id": "yw8-ayVSejYw",
        "colab_type": "code",
        "colab": {}
      },
      "source": [
        "from pandas_datareader import data as pdr"
      ],
      "execution_count": 0,
      "outputs": []
    },
    {
      "cell_type": "code",
      "metadata": {
        "inputHidden": false,
        "outputHidden": false,
        "id": "dR4nZCzkejZA",
        "colab_type": "code",
        "colab": {}
      },
      "source": [
        "symbol = 'AAPL'\n",
        "start = '2014-01-01'\n",
        "end = '2018-01-01'\n",
        "data = pdr.get_data_yahoo(symbol, start, end)"
      ],
      "execution_count": 0,
      "outputs": []
    },
    {
      "cell_type": "code",
      "metadata": {
        "inputHidden": false,
        "outputHidden": false,
        "id": "9Gw_ZLakejZS",
        "colab_type": "code",
        "colab": {}
      },
      "source": [
        "data.head()"
      ],
      "execution_count": 0,
      "outputs": []
    },
    {
      "cell_type": "markdown",
      "metadata": {
        "id": "hCkxcpfqejZi",
        "colab_type": "text"
      },
      "source": [
        "## 3. alpha_vantage\n",
        "https://alpha-vantage.readthedocs.io/en/latest/\n",
        "\n",
        "For this one, you will need to sign up and is free. You will get a free api key.\n",
        "\n",
        "https://www.alphavantage.co/support/#api-key"
      ]
    },
    {
      "cell_type": "code",
      "metadata": {
        "id": "zTzTOVIOejZl",
        "colab_type": "code",
        "colab": {}
      },
      "source": [
        "from alpha_vantage.timeseries import TimeSeries"
      ],
      "execution_count": 0,
      "outputs": []
    },
    {
      "cell_type": "code",
      "metadata": {
        "inputHidden": false,
        "outputHidden": false,
        "id": "VYZc0Ob2ejZ0",
        "colab_type": "code",
        "colab": {}
      },
      "source": [
        "ts = TimeSeries(key='...') # Input your API KEY in ...\n",
        "# Get json object with the intraday data and another with  the call's metadata\n",
        "data, meta_data = ts.get_intraday('AAPL')\n",
        "data.head()"
      ],
      "execution_count": 0,
      "outputs": []
    },
    {
      "cell_type": "markdown",
      "metadata": {
        "id": "wzCaBYuOejaD",
        "colab_type": "text"
      },
      "source": [
        "## 4. iexfinance"
      ]
    },
    {
      "cell_type": "code",
      "metadata": {
        "inputHidden": false,
        "outputHidden": false,
        "id": "x_fWmCzkejaG",
        "colab_type": "code",
        "colab": {}
      },
      "source": [
        "from iexfinance import Stock"
      ],
      "execution_count": 0,
      "outputs": []
    },
    {
      "cell_type": "code",
      "metadata": {
        "inputHidden": false,
        "outputHidden": false,
        "id": "ec7-hQgKejab",
        "colab_type": "code",
        "colab": {}
      },
      "source": [
        "tsla = Stock(symbol)\n",
        "tsla.get_open()\n",
        "tsla.get_price()"
      ],
      "execution_count": 0,
      "outputs": []
    },
    {
      "cell_type": "code",
      "metadata": {
        "inputHidden": false,
        "outputHidden": false,
        "id": "AUxduIlAejaq",
        "colab_type": "code",
        "colab": {}
      },
      "source": [
        "from datetime import datetime\n",
        "\n",
        "start = datetime(2014, 1, 1)\n",
        "end = datetime(2018, 1, 1)\n",
        "\n",
        "df = get_historical_data(\"AAPL\", start=start, end=end, output_format='pandas')\n",
        "df.head()"
      ],
      "execution_count": 0,
      "outputs": []
    },
    {
      "cell_type": "markdown",
      "metadata": {
        "id": "eaSHJKdWeja3",
        "colab_type": "text"
      },
      "source": [
        "## 5. quandl \n",
        "\n",
        "For this one you need to sign up and is very limited."
      ]
    },
    {
      "cell_type": "code",
      "metadata": {
        "id": "NIA2LNdEeja6",
        "colab_type": "code",
        "colab": {}
      },
      "source": [
        "# import needed libraries\n",
        "import quandl"
      ],
      "execution_count": 0,
      "outputs": []
    },
    {
      "cell_type": "code",
      "metadata": {
        "inputHidden": false,
        "outputHidden": false,
        "id": "AyHQNQeNejbH",
        "colab_type": "code",
        "colab": {}
      },
      "source": [
        "token = \"...\" # Input your token ...\n",
        "data = quandl.get(\"WIKI/AAPL\", start_date=\"2014-01-01\", end_date=\"2018-01-01\", api_key=token)"
      ],
      "execution_count": 0,
      "outputs": []
    },
    {
      "cell_type": "markdown",
      "metadata": {
        "id": "93PeqiFjejbV",
        "colab_type": "text"
      },
      "source": [
        "## 5. Yahoo, Google, or other sites (download csv)\n",
        "This one has historical data and economic data.\n",
        "\n",
        "For example: https://finance.yahoo.com/quote/AAPL/history?p=AAPL\n",
        "\n",
        "You should see: Download Data and click that icon. "
      ]
    },
    {
      "cell_type": "code",
      "metadata": {
        "inputHidden": false,
        "outputHidden": false,
        "id": "Uqz-2qvCejbX",
        "colab_type": "code",
        "colab": {}
      },
      "source": [
        "aapl.to_csv('aapl.csv') # Make sure you have the right directory path\n",
        "df = pd.read_csv('aapl.csv', header=0, index_col='Date', parse_dates=True)"
      ],
      "execution_count": 0,
      "outputs": []
    },
    {
      "cell_type": "markdown",
      "metadata": {
        "id": "nEX36Np_ejbl",
        "colab_type": "text"
      },
      "source": [
        "## 6. yahoo-finance\n",
        "\n",
        "https://github.com/lukaszbanasiak/yahoo-finance"
      ]
    },
    {
      "cell_type": "code",
      "metadata": {
        "inputHidden": false,
        "outputHidden": false,
        "id": "7AJiEJjtejbo",
        "colab_type": "code",
        "colab": {}
      },
      "source": [
        "from yahoo_finance import Share"
      ],
      "execution_count": 0,
      "outputs": []
    },
    {
      "cell_type": "code",
      "metadata": {
        "inputHidden": false,
        "outputHidden": false,
        "id": "KIPIY0h0ejb4",
        "colab_type": "code",
        "colab": {}
      },
      "source": [
        "data = Share('AAPL')\n",
        "print(data.get_open())\n",
        "print(data.get_price())"
      ],
      "execution_count": 0,
      "outputs": []
    },
    {
      "cell_type": "code",
      "metadata": {
        "inputHidden": false,
        "outputHidden": false,
        "id": "zuiAkPSHejcF",
        "colab_type": "code",
        "colab": {}
      },
      "source": [
        "# Get Historical Data\n",
        "# This one does not show nice dataframe\n",
        "print(data.get_historical('2014-01-01', '2018-01-01'))"
      ],
      "execution_count": 0,
      "outputs": []
    },
    {
      "cell_type": "markdown",
      "metadata": {
        "id": "WGgLFk0GejcQ",
        "colab_type": "text"
      },
      "source": [
        "## 7. Macrotrends\n",
        "\n",
        "Scrape Data\n",
        "\n",
        "https://www.macrotrends.net/"
      ]
    },
    {
      "cell_type": "code",
      "metadata": {
        "inputHidden": false,
        "outputHidden": false,
        "id": "HkrZRx6cejcT",
        "colab_type": "code",
        "colab": {}
      },
      "source": [
        "symbol = 'AAPL'\n",
        "url = 'https://www.macrotrends.net/assets/php/stock_data_export.php?t=' + symbol\n",
        "stock_price = pd.read_csv(url, skiprows=10)"
      ],
      "execution_count": 0,
      "outputs": []
    },
    {
      "cell_type": "code",
      "metadata": {
        "inputHidden": false,
        "outputHidden": false,
        "id": "II9ZKepMejcf",
        "colab_type": "code",
        "colab": {},
        "outputId": "30d59e82-c6b9-45d8-d110-096618c1aef0"
      },
      "source": [
        "stock_price.head()"
      ],
      "execution_count": 0,
      "outputs": [
        {
          "output_type": "execute_result",
          "data": {
            "text/html": [
              "<div>\n",
              "<style scoped>\n",
              "    .dataframe tbody tr th:only-of-type {\n",
              "        vertical-align: middle;\n",
              "    }\n",
              "\n",
              "    .dataframe tbody tr th {\n",
              "        vertical-align: top;\n",
              "    }\n",
              "\n",
              "    .dataframe thead th {\n",
              "        text-align: right;\n",
              "    }\n",
              "</style>\n",
              "<table border=\"1\" class=\"dataframe\">\n",
              "  <thead>\n",
              "    <tr style=\"text-align: right;\">\n",
              "      <th></th>\n",
              "      <th>date</th>\n",
              "      <th>open</th>\n",
              "      <th>high</th>\n",
              "      <th>low</th>\n",
              "      <th>close</th>\n",
              "      <th>volume</th>\n",
              "    </tr>\n",
              "  </thead>\n",
              "  <tbody>\n",
              "    <tr>\n",
              "      <th>0</th>\n",
              "      <td>1980-12-12</td>\n",
              "      <td>0.4164</td>\n",
              "      <td>0.4182</td>\n",
              "      <td>0.4164</td>\n",
              "      <td>0.4164</td>\n",
              "      <td>117258400</td>\n",
              "    </tr>\n",
              "    <tr>\n",
              "      <th>1</th>\n",
              "      <td>1980-12-15</td>\n",
              "      <td>0.3966</td>\n",
              "      <td>0.3966</td>\n",
              "      <td>0.3947</td>\n",
              "      <td>0.3947</td>\n",
              "      <td>43971200</td>\n",
              "    </tr>\n",
              "    <tr>\n",
              "      <th>2</th>\n",
              "      <td>1980-12-16</td>\n",
              "      <td>0.3675</td>\n",
              "      <td>0.3675</td>\n",
              "      <td>0.3657</td>\n",
              "      <td>0.3657</td>\n",
              "      <td>26432000</td>\n",
              "    </tr>\n",
              "    <tr>\n",
              "      <th>3</th>\n",
              "      <td>1980-12-17</td>\n",
              "      <td>0.3747</td>\n",
              "      <td>0.3766</td>\n",
              "      <td>0.3747</td>\n",
              "      <td>0.3747</td>\n",
              "      <td>21610400</td>\n",
              "    </tr>\n",
              "    <tr>\n",
              "      <th>4</th>\n",
              "      <td>1980-12-18</td>\n",
              "      <td>0.3857</td>\n",
              "      <td>0.3874</td>\n",
              "      <td>0.3857</td>\n",
              "      <td>0.3857</td>\n",
              "      <td>18362400</td>\n",
              "    </tr>\n",
              "  </tbody>\n",
              "</table>\n",
              "</div>"
            ],
            "text/plain": [
              "         date    open    high     low   close     volume\n",
              "0  1980-12-12  0.4164  0.4182  0.4164  0.4164  117258400\n",
              "1  1980-12-15  0.3966  0.3966  0.3947  0.3947   43971200\n",
              "2  1980-12-16  0.3675  0.3675  0.3657  0.3657   26432000\n",
              "3  1980-12-17  0.3747  0.3766  0.3747  0.3747   21610400\n",
              "4  1980-12-18  0.3857  0.3874  0.3857  0.3857   18362400"
            ]
          },
          "metadata": {
            "tags": []
          },
          "execution_count": 10
        }
      ]
    },
    {
      "cell_type": "markdown",
      "metadata": {
        "id": "80Q7Qc1tejcv",
        "colab_type": "text"
      },
      "source": [
        "## 8. eoddata-client\n",
        "\n",
        "This one is not free. You will need to paid for the service.\n",
        "\n",
        "https://github.com/apologist/eoddata-client\n",
        "\n",
        "http://eoddata.com/"
      ]
    },
    {
      "cell_type": "code",
      "metadata": {
        "inputHidden": false,
        "outputHidden": false,
        "id": "cvSV-Oouejcy",
        "colab_type": "code",
        "colab": {}
      },
      "source": [
        "import os\n",
        "\n",
        "from eoddata_client import EodDataHttpClient\n",
        "\n",
        "client = EodDataHttpClient(os.environ['EOD_DATA_LOGIN'],\n",
        "                           os.environ['EOD_DATA_PASSWORD'])\n",
        "\n",
        "quotes = client.symbol_history('nasdaq', 'aapl', datetime.date(2014, 1, 1))\n",
        "quotes['Diff'] = quotes['Close'].shift(1) - quotes['Close']\n",
        "print(quotes.tail())"
      ],
      "execution_count": 0,
      "outputs": []
    },
    {
      "cell_type": "markdown",
      "metadata": {
        "id": "DBWIizfdejc-",
        "colab_type": "text"
      },
      "source": [
        "## 9. yahoo-historical\n",
        "\n",
        "https://pypi.org/project/yahoo-historical/"
      ]
    },
    {
      "cell_type": "code",
      "metadata": {
        "id": "x-sdZOFbejdB",
        "colab_type": "code",
        "colab": {}
      },
      "source": [
        "from yahoo_historical import Fetcher\n",
        "data = Fetcher(\"AAPL\", [2014,1,1], [2018,1,1])\n",
        "print(data.getHistorical())"
      ],
      "execution_count": 0,
      "outputs": []
    },
    {
      "cell_type": "markdown",
      "metadata": {
        "id": "hOams0bPejdN",
        "colab_type": "text"
      },
      "source": [
        "## 10. yahoofinancials\n",
        "\n",
        "This one is to get fundamental data.\n",
        "\n",
        "https://github.com/JECSand/yahoofinancials"
      ]
    },
    {
      "cell_type": "code",
      "metadata": {
        "id": "Ux0BfaEeejdQ",
        "colab_type": "code",
        "colab": {}
      },
      "source": [
        "from yahoofinancials import YahooFinancials\n",
        "\n",
        "ticker = 'AAPL'\n",
        "yahoo_financials = YahooFinancials(ticker)"
      ],
      "execution_count": 0,
      "outputs": []
    },
    {
      "cell_type": "markdown",
      "metadata": {
        "id": "EloxGMVgejdi",
        "colab_type": "text"
      },
      "source": [
        "## 11. pandas-finance"
      ]
    },
    {
      "cell_type": "markdown",
      "metadata": {
        "id": "j8KFxmUgejdk",
        "colab_type": "text"
      },
      "source": [
        "https://github.com/davidastephens/pandas-finance"
      ]
    },
    {
      "cell_type": "code",
      "metadata": {
        "inputHidden": false,
        "outputHidden": false,
        "id": "L3vt4D-qejdm",
        "colab_type": "code",
        "colab": {}
      },
      "source": [
        "from pandas_finance import Equity\n",
        "aapl = Equity('AAPL')\n",
        "aapl.annual_dividend\n",
        "aapl.dividend_yield\n",
        "aapl.price\n",
        "aapl.options\n",
        "aapl.hist_vol(30)\n",
        "aapl.rolling_hist_vol(30)"
      ],
      "execution_count": 0,
      "outputs": []
    },
    {
      "cell_type": "markdown",
      "metadata": {
        "id": "hYLcoBBtejdx",
        "colab_type": "text"
      },
      "source": [
        "## 12. FinanceDataReader"
      ]
    },
    {
      "cell_type": "markdown",
      "metadata": {
        "id": "E7IwxxCxejd0",
        "colab_type": "text"
      },
      "source": [
        "https://github.com/FinanceData/FinanceDataReader"
      ]
    },
    {
      "cell_type": "code",
      "metadata": {
        "inputHidden": false,
        "outputHidden": false,
        "id": "vAHJzntqejd2",
        "colab_type": "code",
        "colab": {}
      },
      "source": [
        "import FinanceDataReader as fdr\n",
        "\n",
        "# Apple(AAPL), 2017-01-01 ~ Now\n",
        "df = fdr.DataReader('AAPL', '2017')\n",
        "\n",
        "# AMAZON(AMZN), 2017\n",
        "df = fdr.DataReader('AMZN', '2017-01-01', '2017-12-31')"
      ],
      "execution_count": 0,
      "outputs": []
    },
    {
      "cell_type": "markdown",
      "metadata": {
        "id": "imXqWAPwejeK",
        "colab_type": "text"
      },
      "source": [
        "# If there are more places you can download historical data, I will add more. Let me know. Email me please."
      ]
    }
  ]
}